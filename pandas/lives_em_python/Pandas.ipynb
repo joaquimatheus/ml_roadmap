{
 "cells": [
  {
   "cell_type": "code",
   "execution_count": 3,
   "id": "f0377121",
   "metadata": {},
   "outputs": [],
   "source": [
    "from random import randint\n",
    "from string import ascii_uppercase\n",
    "\n",
    "d = {k: randint(5, 50) for k in ascii_uppercase}"
   ]
  },
  {
   "cell_type": "code",
   "execution_count": 6,
   "id": "4f30034f",
   "metadata": {},
   "outputs": [
    {
     "data": {
      "text/plain": [
       "{'A': 6,\n",
       " 'B': 8,\n",
       " 'C': 10,\n",
       " 'D': 10,\n",
       " 'E': 6,\n",
       " 'F': 7,\n",
       " 'G': 10,\n",
       " 'H': 7,\n",
       " 'I': 8,\n",
       " 'J': 7,\n",
       " 'K': 5,\n",
       " 'L': 5,\n",
       " 'M': 5,\n",
       " 'N': 5,\n",
       " 'O': 5,\n",
       " 'P': 5,\n",
       " 'Q': 9,\n",
       " 'R': 8,\n",
       " 'S': 7,\n",
       " 'T': 10,\n",
       " 'U': 5,\n",
       " 'V': 6,\n",
       " 'W': 6,\n",
       " 'X': 8,\n",
       " 'Y': 7,\n",
       " 'Z': 7}"
      ]
     },
     "execution_count": 6,
     "metadata": {},
     "output_type": "execute_result"
    }
   ],
   "source": [
    "d"
   ]
  },
  {
   "cell_type": "code",
   "execution_count": 12,
   "id": "6cdab425",
   "metadata": {},
   "outputs": [],
   "source": [
    "from pandas import Series"
   ]
  },
  {
   "cell_type": "code",
   "execution_count": 22,
   "id": "faa296f7",
   "metadata": {},
   "outputs": [],
   "source": [
    "s = Series(d)"
   ]
  },
  {
   "cell_type": "code",
   "execution_count": 14,
   "id": "5e4b6347",
   "metadata": {},
   "outputs": [
    {
     "data": {
      "text/plain": [
       "A     6\n",
       "B     8\n",
       "C    10\n",
       "D    10\n",
       "E     6\n",
       "F     7\n",
       "G    10\n",
       "H     7\n",
       "I     8\n",
       "J     7\n",
       "K     5\n",
       "L     5\n",
       "M     5\n",
       "N     5\n",
       "O     5\n",
       "P     5\n",
       "Q     9\n",
       "R     8\n",
       "S     7\n",
       "T    10\n",
       "U     5\n",
       "V     6\n",
       "W     6\n",
       "X     8\n",
       "Y     7\n",
       "Z     7\n",
       "dtype: int64"
      ]
     },
     "execution_count": 14,
     "metadata": {},
     "output_type": "execute_result"
    }
   ],
   "source": [
    "s"
   ]
  },
  {
   "cell_type": "code",
   "execution_count": 16,
   "id": "66da542b",
   "metadata": {},
   "outputs": [
    {
     "data": {
      "text/plain": [
       "A     600\n",
       "B     800\n",
       "C    1000\n",
       "D    1000\n",
       "E     600\n",
       "F     700\n",
       "G    1000\n",
       "H     700\n",
       "I     800\n",
       "J     700\n",
       "K     500\n",
       "L     500\n",
       "M     500\n",
       "N     500\n",
       "O     500\n",
       "P     500\n",
       "Q     900\n",
       "R     800\n",
       "S     700\n",
       "T    1000\n",
       "U     500\n",
       "V     600\n",
       "W     600\n",
       "X     800\n",
       "Y     700\n",
       "Z     700\n",
       "dtype: int64"
      ]
     },
     "execution_count": 16,
     "metadata": {},
     "output_type": "execute_result"
    }
   ],
   "source": [
    "s * 100"
   ]
  },
  {
   "cell_type": "code",
   "execution_count": 18,
   "id": "b259b1bc",
   "metadata": {},
   "outputs": [
    {
     "data": {
      "text/plain": [
       "10"
      ]
     },
     "execution_count": 18,
     "metadata": {},
     "output_type": "execute_result"
    }
   ],
   "source": [
    "s.max()"
   ]
  },
  {
   "cell_type": "code",
   "execution_count": 32,
   "id": "f885244c",
   "metadata": {},
   "outputs": [
    {
     "data": {
      "text/plain": [
       "<AxesSubplot: >"
      ]
     },
     "execution_count": 32,
     "metadata": {},
     "output_type": "execute_result"
    },
    {
     "data": {
      "image/png": "[encoded data removed]",
      "text/plain": [
       "<Figure size 640x480 with 1 Axes>"
      ]
     },
     "metadata": {},
     "output_type": "display_data"
    }
   ],
   "source": [
    "s.plot(kind=\"box\")"
   ]
  },
  {
   "cell_type": "code",
   "execution_count": 36,
   "id": "b6c9db90",
   "metadata": {},
   "outputs": [
    {
     "data": {
      "text/plain": [
       "B    43\n",
       "C    41\n",
       "F    39\n",
       "G    26\n",
       "I    19\n",
       "K    48\n",
       "L    43\n",
       "M    19\n",
       "N    40\n",
       "O    27\n",
       "P    30\n",
       "S    19\n",
       "V    38\n",
       "X    40\n",
       "Y    41\n",
       "dtype: int64"
      ]
     },
     "execution_count": 36,
     "metadata": {},
     "output_type": "execute_result"
    }
   ],
   "source": [
    "s[lambda x: x > 17]"
   ]
  },
  {
   "cell_type": "code",
   "execution_count": 37,
   "id": "c7035238",
   "metadata": {},
   "outputs": [
    {
     "data": {
      "text/plain": [
       "A    11\n",
       "D    11\n",
       "E    11\n",
       "H     8\n",
       "J    13\n",
       "Q    12\n",
       "R    15\n",
       "T    16\n",
       "U     6\n",
       "W     5\n",
       "Z    15\n",
       "dtype: int64"
      ]
     },
     "execution_count": 37,
     "metadata": {},
     "output_type": "execute_result"
    }
   ],
   "source": [
    "s[lambda x: x < 17]"
   ]
  },
  {
   "cell_type": "code",
   "execution_count": 45,
   "id": "c68b3914",
   "metadata": {},
   "outputs": [
    {
     "data": {
      "text/plain": [
       "11"
      ]
     },
     "execution_count": 45,
     "metadata": {},
     "output_type": "execute_result"
    }
   ],
   "source": [
    "s.iloc[0]"
   ]
  },
  {
   "cell_type": "code",
   "execution_count": 46,
   "id": "de5c7884",
   "metadata": {},
   "outputs": [
    {
     "data": {
      "text/plain": [
       "41"
      ]
     },
     "execution_count": 46,
     "metadata": {},
     "output_type": "execute_result"
    }
   ],
   "source": [
    "s['C']"
   ]
  },
  {
   "cell_type": "code",
   "execution_count": 48,
   "id": "c58fc846",
   "metadata": {},
   "outputs": [
    {
     "data": {
      "text/plain": [
       "A    11\n",
       "B    43\n",
       "C    41\n",
       "D    11\n",
       "E    11\n",
       "F    39\n",
       "G    26\n",
       "H     8\n",
       "I    19\n",
       "J    13\n",
       "K    48\n",
       "L    43\n",
       "M    19\n",
       "N    40\n",
       "O    27\n",
       "P    30\n",
       "Q    12\n",
       "R    15\n",
       "S    19\n",
       "T    16\n",
       "U     6\n",
       "V    38\n",
       "W     5\n",
       "X    40\n",
       "Y    41\n",
       "Z    15\n",
       "dtype: int64"
      ]
     },
     "execution_count": 48,
     "metadata": {},
     "output_type": "execute_result"
    }
   ],
   "source": [
    "s"
   ]
  },
  {
   "cell_type": "code",
   "execution_count": 49,
   "id": "4b05d8ae",
   "metadata": {},
   "outputs": [
    {
     "data": {
      "text/plain": [
       "15"
      ]
     },
     "execution_count": 49,
     "metadata": {},
     "output_type": "execute_result"
    }
   ],
   "source": [
    "# def maior_que_17(x):\n",
    "#     return x > 17\n",
    "\n",
    "s[lambda x: x > 17].count()"
   ]
  },
  {
   "cell_type": "code",
   "execution_count": 50,
   "id": "19da41aa",
   "metadata": {},
   "outputs": [
    {
     "data": {
      "text/plain": [
       "34.2"
      ]
     },
     "execution_count": 50,
     "metadata": {},
     "output_type": "execute_result"
    }
   ],
   "source": [
    "s[lambda x: x > 17].mean()"
   ]
  },
  {
   "cell_type": "code",
   "execution_count": 51,
   "id": "a2a3bed0",
   "metadata": {},
   "outputs": [
    {
     "data": {
      "text/plain": [
       "count    15.000000\n",
       "mean     34.200000\n",
       "std       9.900938\n",
       "min      19.000000\n",
       "25%      26.500000\n",
       "50%      39.000000\n",
       "75%      41.000000\n",
       "max      48.000000\n",
       "dtype: float64"
      ]
     },
     "execution_count": 51,
     "metadata": {},
     "output_type": "execute_result"
    }
   ],
   "source": [
    "s[lambda x: x > 17].describe()"
   ]
  },
  {
   "cell_type": "code",
   "execution_count": 52,
   "id": "85f244db",
   "metadata": {},
   "outputs": [
    {
     "data": {
      "text/plain": [
       "513"
      ]
     },
     "execution_count": 52,
     "metadata": {},
     "output_type": "execute_result"
    }
   ],
   "source": [
    "s[lambda x: x > 17].sum()"
   ]
  },
  {
   "cell_type": "code",
   "execution_count": 53,
   "id": "455ed6b0",
   "metadata": {},
   "outputs": [
    {
     "data": {
      "text/plain": [
       "A    11\n",
       "B    43\n",
       "C    41\n",
       "D    11\n",
       "E    11\n",
       "F    39\n",
       "G    26\n",
       "H     8\n",
       "I    19\n",
       "J    13\n",
       "dtype: int64"
      ]
     },
     "execution_count": 53,
     "metadata": {},
     "output_type": "execute_result"
    }
   ],
   "source": [
    "s.iloc[0: 10]"
   ]
  },
  {
   "cell_type": "code",
   "execution_count": 54,
   "id": "0947d331",
   "metadata": {},
   "outputs": [
    {
     "ename": "TypeError",
     "evalue": "cannot do slice indexing on Index with these indexers [0] of type int",
     "output_type": "error",
     "traceback": [
      "\u001b[0;31m---------------------------------------------------------------------------\u001b[0m",
      "\u001b[0;31mTypeError\u001b[0m                                 Traceback (most recent call last)",
      "Cell \u001b[0;32mIn[54], line 1\u001b[0m\n\u001b[0;32m----> 1\u001b[0m \u001b[43ms\u001b[49m\u001b[38;5;241;43m.\u001b[39;49m\u001b[43mloc\u001b[49m\u001b[43m[\u001b[49m\u001b[38;5;241;43m0\u001b[39;49m\u001b[43m:\u001b[49m\u001b[43m \u001b[49m\u001b[38;5;241;43m10\u001b[39;49m\u001b[43m]\u001b[49m\n",
      "File \u001b[0;32m~/.local/lib/python3.10/site-packages/pandas/core/indexing.py:1073\u001b[0m, in \u001b[0;36m_LocationIndexer.__getitem__\u001b[0;34m(self, key)\u001b[0m\n\u001b[1;32m   1070\u001b[0m axis \u001b[38;5;241m=\u001b[39m \u001b[38;5;28mself\u001b[39m\u001b[38;5;241m.\u001b[39maxis \u001b[38;5;129;01mor\u001b[39;00m \u001b[38;5;241m0\u001b[39m\n\u001b[1;32m   1072\u001b[0m maybe_callable \u001b[38;5;241m=\u001b[39m com\u001b[38;5;241m.\u001b[39mapply_if_callable(key, \u001b[38;5;28mself\u001b[39m\u001b[38;5;241m.\u001b[39mobj)\n\u001b[0;32m-> 1073\u001b[0m \u001b[38;5;28;01mreturn\u001b[39;00m \u001b[38;5;28;43mself\u001b[39;49m\u001b[38;5;241;43m.\u001b[39;49m\u001b[43m_getitem_axis\u001b[49m\u001b[43m(\u001b[49m\u001b[43mmaybe_callable\u001b[49m\u001b[43m,\u001b[49m\u001b[43m \u001b[49m\u001b[43maxis\u001b[49m\u001b[38;5;241;43m=\u001b[39;49m\u001b[43maxis\u001b[49m\u001b[43m)\u001b[49m\n",
      "File \u001b[0;32m~/.local/lib/python3.10/site-packages/pandas/core/indexing.py:1290\u001b[0m, in \u001b[0;36m_LocIndexer._getitem_axis\u001b[0;34m(self, key, axis)\u001b[0m\n\u001b[1;32m   1288\u001b[0m \u001b[38;5;28;01mif\u001b[39;00m \u001b[38;5;28misinstance\u001b[39m(key, \u001b[38;5;28mslice\u001b[39m):\n\u001b[1;32m   1289\u001b[0m     \u001b[38;5;28mself\u001b[39m\u001b[38;5;241m.\u001b[39m_validate_key(key, axis)\n\u001b[0;32m-> 1290\u001b[0m     \u001b[38;5;28;01mreturn\u001b[39;00m \u001b[38;5;28;43mself\u001b[39;49m\u001b[38;5;241;43m.\u001b[39;49m\u001b[43m_get_slice_axis\u001b[49m\u001b[43m(\u001b[49m\u001b[43mkey\u001b[49m\u001b[43m,\u001b[49m\u001b[43m \u001b[49m\u001b[43maxis\u001b[49m\u001b[38;5;241;43m=\u001b[39;49m\u001b[43maxis\u001b[49m\u001b[43m)\u001b[49m\n\u001b[1;32m   1291\u001b[0m \u001b[38;5;28;01melif\u001b[39;00m com\u001b[38;5;241m.\u001b[39mis_bool_indexer(key):\n\u001b[1;32m   1292\u001b[0m     \u001b[38;5;28;01mreturn\u001b[39;00m \u001b[38;5;28mself\u001b[39m\u001b[38;5;241m.\u001b[39m_getbool_axis(key, axis\u001b[38;5;241m=\u001b[39maxis)\n",
      "File \u001b[0;32m~/.local/lib/python3.10/site-packages/pandas/core/indexing.py:1324\u001b[0m, in \u001b[0;36m_LocIndexer._get_slice_axis\u001b[0;34m(self, slice_obj, axis)\u001b[0m\n\u001b[1;32m   1321\u001b[0m     \u001b[38;5;28;01mreturn\u001b[39;00m obj\u001b[38;5;241m.\u001b[39mcopy(deep\u001b[38;5;241m=\u001b[39m\u001b[38;5;28;01mFalse\u001b[39;00m)\n\u001b[1;32m   1323\u001b[0m labels \u001b[38;5;241m=\u001b[39m obj\u001b[38;5;241m.\u001b[39m_get_axis(axis)\n\u001b[0;32m-> 1324\u001b[0m indexer \u001b[38;5;241m=\u001b[39m \u001b[43mlabels\u001b[49m\u001b[38;5;241;43m.\u001b[39;49m\u001b[43mslice_indexer\u001b[49m\u001b[43m(\u001b[49m\u001b[43mslice_obj\u001b[49m\u001b[38;5;241;43m.\u001b[39;49m\u001b[43mstart\u001b[49m\u001b[43m,\u001b[49m\u001b[43m \u001b[49m\u001b[43mslice_obj\u001b[49m\u001b[38;5;241;43m.\u001b[39;49m\u001b[43mstop\u001b[49m\u001b[43m,\u001b[49m\u001b[43m \u001b[49m\u001b[43mslice_obj\u001b[49m\u001b[38;5;241;43m.\u001b[39;49m\u001b[43mstep\u001b[49m\u001b[43m)\u001b[49m\n\u001b[1;32m   1326\u001b[0m \u001b[38;5;28;01mif\u001b[39;00m \u001b[38;5;28misinstance\u001b[39m(indexer, \u001b[38;5;28mslice\u001b[39m):\n\u001b[1;32m   1327\u001b[0m     \u001b[38;5;28;01mreturn\u001b[39;00m \u001b[38;5;28mself\u001b[39m\u001b[38;5;241m.\u001b[39mobj\u001b[38;5;241m.\u001b[39m_slice(indexer, axis\u001b[38;5;241m=\u001b[39maxis)\n",
      "File \u001b[0;32m~/.local/lib/python3.10/site-packages/pandas/core/indexes/base.py:6602\u001b[0m, in \u001b[0;36mIndex.slice_indexer\u001b[0;34m(self, start, end, step, kind)\u001b[0m\n\u001b[1;32m   6559\u001b[0m \u001b[38;5;250m\u001b[39m\u001b[38;5;124;03m\"\"\"\u001b[39;00m\n\u001b[1;32m   6560\u001b[0m \u001b[38;5;124;03mCompute the slice indexer for input labels and step.\u001b[39;00m\n\u001b[1;32m   6561\u001b[0m \n\u001b[0;32m   (...)\u001b[0m\n\u001b[1;32m   6598\u001b[0m \u001b[38;5;124;03mslice(1, 3, None)\u001b[39;00m\n\u001b[1;32m   6599\u001b[0m \u001b[38;5;124;03m\"\"\"\u001b[39;00m\n\u001b[1;32m   6600\u001b[0m \u001b[38;5;28mself\u001b[39m\u001b[38;5;241m.\u001b[39m_deprecated_arg(kind, \u001b[38;5;124m\"\u001b[39m\u001b[38;5;124mkind\u001b[39m\u001b[38;5;124m\"\u001b[39m, \u001b[38;5;124m\"\u001b[39m\u001b[38;5;124mslice_indexer\u001b[39m\u001b[38;5;124m\"\u001b[39m)\n\u001b[0;32m-> 6602\u001b[0m start_slice, end_slice \u001b[38;5;241m=\u001b[39m \u001b[38;5;28;43mself\u001b[39;49m\u001b[38;5;241;43m.\u001b[39;49m\u001b[43mslice_locs\u001b[49m\u001b[43m(\u001b[49m\u001b[43mstart\u001b[49m\u001b[43m,\u001b[49m\u001b[43m \u001b[49m\u001b[43mend\u001b[49m\u001b[43m,\u001b[49m\u001b[43m \u001b[49m\u001b[43mstep\u001b[49m\u001b[38;5;241;43m=\u001b[39;49m\u001b[43mstep\u001b[49m\u001b[43m)\u001b[49m\n\u001b[1;32m   6604\u001b[0m \u001b[38;5;66;03m# return a slice\u001b[39;00m\n\u001b[1;32m   6605\u001b[0m \u001b[38;5;28;01mif\u001b[39;00m \u001b[38;5;129;01mnot\u001b[39;00m is_scalar(start_slice):\n",
      "File \u001b[0;32m~/.local/lib/python3.10/site-packages/pandas/core/indexes/base.py:6810\u001b[0m, in \u001b[0;36mIndex.slice_locs\u001b[0;34m(self, start, end, step, kind)\u001b[0m\n\u001b[1;32m   6808\u001b[0m start_slice \u001b[38;5;241m=\u001b[39m \u001b[38;5;28;01mNone\u001b[39;00m\n\u001b[1;32m   6809\u001b[0m \u001b[38;5;28;01mif\u001b[39;00m start \u001b[38;5;129;01mis\u001b[39;00m \u001b[38;5;129;01mnot\u001b[39;00m \u001b[38;5;28;01mNone\u001b[39;00m:\n\u001b[0;32m-> 6810\u001b[0m     start_slice \u001b[38;5;241m=\u001b[39m \u001b[38;5;28;43mself\u001b[39;49m\u001b[38;5;241;43m.\u001b[39;49m\u001b[43mget_slice_bound\u001b[49m\u001b[43m(\u001b[49m\u001b[43mstart\u001b[49m\u001b[43m,\u001b[49m\u001b[43m \u001b[49m\u001b[38;5;124;43m\"\u001b[39;49m\u001b[38;5;124;43mleft\u001b[39;49m\u001b[38;5;124;43m\"\u001b[39;49m\u001b[43m)\u001b[49m\n\u001b[1;32m   6811\u001b[0m \u001b[38;5;28;01mif\u001b[39;00m start_slice \u001b[38;5;129;01mis\u001b[39;00m \u001b[38;5;28;01mNone\u001b[39;00m:\n\u001b[1;32m   6812\u001b[0m     start_slice \u001b[38;5;241m=\u001b[39m \u001b[38;5;241m0\u001b[39m\n",
      "File \u001b[0;32m~/.local/lib/python3.10/site-packages/pandas/core/indexes/base.py:6719\u001b[0m, in \u001b[0;36mIndex.get_slice_bound\u001b[0;34m(self, label, side, kind)\u001b[0m\n\u001b[1;32m   6715\u001b[0m original_label \u001b[38;5;241m=\u001b[39m label\n\u001b[1;32m   6717\u001b[0m \u001b[38;5;66;03m# For datetime indices label may be a string that has to be converted\u001b[39;00m\n\u001b[1;32m   6718\u001b[0m \u001b[38;5;66;03m# to datetime boundary according to its resolution.\u001b[39;00m\n\u001b[0;32m-> 6719\u001b[0m label \u001b[38;5;241m=\u001b[39m \u001b[38;5;28;43mself\u001b[39;49m\u001b[38;5;241;43m.\u001b[39;49m\u001b[43m_maybe_cast_slice_bound\u001b[49m\u001b[43m(\u001b[49m\u001b[43mlabel\u001b[49m\u001b[43m,\u001b[49m\u001b[43m \u001b[49m\u001b[43mside\u001b[49m\u001b[43m)\u001b[49m\n\u001b[1;32m   6721\u001b[0m \u001b[38;5;66;03m# we need to look up the label\u001b[39;00m\n\u001b[1;32m   6722\u001b[0m \u001b[38;5;28;01mtry\u001b[39;00m:\n",
      "File \u001b[0;32m~/.local/lib/python3.10/site-packages/pandas/core/indexes/base.py:6666\u001b[0m, in \u001b[0;36mIndex._maybe_cast_slice_bound\u001b[0;34m(self, label, side, kind)\u001b[0m\n\u001b[1;32m   6661\u001b[0m \u001b[38;5;66;03m# We are a plain index here (sub-class override this method if they\u001b[39;00m\n\u001b[1;32m   6662\u001b[0m \u001b[38;5;66;03m# wish to have special treatment for floats/ints, e.g. Float64Index and\u001b[39;00m\n\u001b[1;32m   6663\u001b[0m \u001b[38;5;66;03m# datetimelike Indexes\u001b[39;00m\n\u001b[1;32m   6664\u001b[0m \u001b[38;5;66;03m# reject them, if index does not contain label\u001b[39;00m\n\u001b[1;32m   6665\u001b[0m \u001b[38;5;28;01mif\u001b[39;00m (is_float(label) \u001b[38;5;129;01mor\u001b[39;00m is_integer(label)) \u001b[38;5;129;01mand\u001b[39;00m label \u001b[38;5;129;01mnot\u001b[39;00m \u001b[38;5;129;01min\u001b[39;00m \u001b[38;5;28mself\u001b[39m:\n\u001b[0;32m-> 6666\u001b[0m     \u001b[38;5;28;01mraise\u001b[39;00m \u001b[38;5;28mself\u001b[39m\u001b[38;5;241m.\u001b[39m_invalid_indexer(\u001b[38;5;124m\"\u001b[39m\u001b[38;5;124mslice\u001b[39m\u001b[38;5;124m\"\u001b[39m, label)\n\u001b[1;32m   6668\u001b[0m \u001b[38;5;28;01mreturn\u001b[39;00m label\n",
      "\u001b[0;31mTypeError\u001b[0m: cannot do slice indexing on Index with these indexers [0] of type int"
     ]
    }
   ],
   "source": [
    "s.loc[0: 10]"
   ]
  },
  {
   "cell_type": "code",
   "execution_count": 57,
   "id": "25d229f8",
   "metadata": {},
   "outputs": [
    {
     "data": {
      "text/plain": [
       "A    11\n",
       "B    43\n",
       "C    41\n",
       "D    11\n",
       "E    11\n",
       "F    39\n",
       "G    26\n",
       "H     8\n",
       "I    19\n",
       "J    13\n",
       "dtype: int64"
      ]
     },
     "execution_count": 57,
     "metadata": {},
     "output_type": "execute_result"
    }
   ],
   "source": [
    "s.iloc[0: 10]"
   ]
  },
  {
   "cell_type": "markdown",
   "id": "063fc409",
   "metadata": {},
   "source": [
    "### Problem 1\n",
    "\n",
    "- groupby"
   ]
  },
  {
   "cell_type": "code",
   "execution_count": 87,
   "id": "57b3cec6",
   "metadata": {},
   "outputs": [],
   "source": [
    "from datetime import datetime, timedelta\n",
    "base = datetime.today()\n",
    "base_times = 900\n",
    "date_list = [base - timedelta(days=x) for x in range(base_times)]"
   ]
  },
  {
   "cell_type": "code",
   "execution_count": 88,
   "id": "17d7ebd0",
   "metadata": {},
   "outputs": [
    {
     "data": {
      "text/plain": [
       "[datetime.datetime(2023, 1, 12, 20, 7, 36, 141846),\n",
       " datetime.datetime(2023, 1, 11, 20, 7, 36, 141846),\n",
       " datetime.datetime(2023, 1, 10, 20, 7, 36, 141846),\n",
       " datetime.datetime(2023, 1, 9, 20, 7, 36, 141846),\n",
       " datetime.datetime(2023, 1, 8, 20, 7, 36, 141846),\n",
       " datetime.datetime(2023, 1, 7, 20, 7, 36, 141846),\n",
       " datetime.datetime(2023, 1, 6, 20, 7, 36, 141846),\n",
       " datetime.datetime(2023, 1, 5, 20, 7, 36, 141846),\n",
       " datetime.datetime(2023, 1, 4, 20, 7, 36, 141846),\n",
       " datetime.datetime(2023, 1, 3, 20, 7, 36, 141846),\n",
       " datetime.datetime(2023, 1, 2, 20, 7, 36, 141846),\n",
       " datetime.datetime(2023, 1, 1, 20, 7, 36, 141846),\n",
       " datetime.datetime(2022, 12, 31, 20, 7, 36, 141846),\n",
       " datetime.datetime(2022, 12, 30, 20, 7, 36, 141846),\n",
       " datetime.datetime(2022, 12, 29, 20, 7, 36, 141846),\n",
       " datetime.datetime(2022, 12, 28, 20, 7, 36, 141846),\n",
       " datetime.datetime(2022, 12, 27, 20, 7, 36, 141846),\n",
       " datetime.datetime(2022, 12, 26, 20, 7, 36, 141846),\n",
       " datetime.datetime(2022, 12, 25, 20, 7, 36, 141846),\n",
       " datetime.datetime(2022, 12, 24, 20, 7, 36, 141846),\n",
       " datetime.datetime(2022, 12, 23, 20, 7, 36, 141846),\n",
       " datetime.datetime(2022, 12, 22, 20, 7, 36, 141846),\n",
       " datetime.datetime(2022, 12, 21, 20, 7, 36, 141846),\n",
       " datetime.datetime(2022, 12, 20, 20, 7, 36, 141846),\n",
       " datetime.datetime(2022, 12, 19, 20, 7, 36, 141846),\n",
       " datetime.datetime(2022, 12, 18, 20, 7, 36, 141846),\n",
       " datetime.datetime(2022, 12, 17, 20, 7, 36, 141846),\n",
       " datetime.datetime(2022, 12, 16, 20, 7, 36, 141846),\n",
       " datetime.datetime(2022, 12, 15, 20, 7, 36, 141846),\n",
       " datetime.datetime(2022, 12, 14, 20, 7, 36, 141846),\n",
       " datetime.datetime(2022, 12, 13, 20, 7, 36, 141846),\n",
       " datetime.datetime(2022, 12, 12, 20, 7, 36, 141846),\n",
       " datetime.datetime(2022, 12, 11, 20, 7, 36, 141846),\n",
       " datetime.datetime(2022, 12, 10, 20, 7, 36, 141846),\n",
       " datetime.datetime(2022, 12, 9, 20, 7, 36, 141846),\n",
       " datetime.datetime(2022, 12, 8, 20, 7, 36, 141846),\n",
       " datetime.datetime(2022, 12, 7, 20, 7, 36, 141846),\n",
       " datetime.datetime(2022, 12, 6, 20, 7, 36, 141846),\n",
       " datetime.datetime(2022, 12, 5, 20, 7, 36, 141846),\n",
       " datetime.datetime(2022, 12, 4, 20, 7, 36, 141846),\n",
       " datetime.datetime(2022, 12, 3, 20, 7, 36, 141846),\n",
       " datetime.datetime(2022, 12, 2, 20, 7, 36, 141846),\n",
       " datetime.datetime(2022, 12, 1, 20, 7, 36, 141846),\n",
       " datetime.datetime(2022, 11, 30, 20, 7, 36, 141846),\n",
       " datetime.datetime(2022, 11, 29, 20, 7, 36, 141846),\n",
       " datetime.datetime(2022, 11, 28, 20, 7, 36, 141846),\n",
       " datetime.datetime(2022, 11, 27, 20, 7, 36, 141846),\n",
       " datetime.datetime(2022, 11, 26, 20, 7, 36, 141846),\n",
       " datetime.datetime(2022, 11, 25, 20, 7, 36, 141846),\n",
       " datetime.datetime(2022, 11, 24, 20, 7, 36, 141846),\n",
       " datetime.datetime(2022, 11, 23, 20, 7, 36, 141846),\n",
       " datetime.datetime(2022, 11, 22, 20, 7, 36, 141846),\n",
       " datetime.datetime(2022, 11, 21, 20, 7, 36, 141846),\n",
       " datetime.datetime(2022, 11, 20, 20, 7, 36, 141846),\n",
       " datetime.datetime(2022, 11, 19, 20, 7, 36, 141846),\n",
       " datetime.datetime(2022, 11, 18, 20, 7, 36, 141846),\n",
       " datetime.datetime(2022, 11, 17, 20, 7, 36, 141846),\n",
       " datetime.datetime(2022, 11, 16, 20, 7, 36, 141846),\n",
       " datetime.datetime(2022, 11, 15, 20, 7, 36, 141846),\n",
       " datetime.datetime(2022, 11, 14, 20, 7, 36, 141846),\n",
       " datetime.datetime(2022, 11, 13, 20, 7, 36, 141846),\n",
       " datetime.datetime(2022, 11, 12, 20, 7, 36, 141846),\n",
       " datetime.datetime(2022, 11, 11, 20, 7, 36, 141846),\n",
       " datetime.datetime(2022, 11, 10, 20, 7, 36, 141846),\n",
       " datetime.datetime(2022, 11, 9, 20, 7, 36, 141846),\n",
       " datetime.datetime(2022, 11, 8, 20, 7, 36, 141846),\n",
       " datetime.datetime(2022, 11, 7, 20, 7, 36, 141846),\n",
       " datetime.datetime(2022, 11, 6, 20, 7, 36, 141846),\n",
       " datetime.datetime(2022, 11, 5, 20, 7, 36, 141846),\n",
       " datetime.datetime(2022, 11, 4, 20, 7, 36, 141846),\n",
       " datetime.datetime(2022, 11, 3, 20, 7, 36, 141846),\n",
       " datetime.datetime(2022, 11, 2, 20, 7, 36, 141846),\n",
       " datetime.datetime(2022, 11, 1, 20, 7, 36, 141846),\n",
       " datetime.datetime(2022, 10, 31, 20, 7, 36, 141846),\n",
       " datetime.datetime(2022, 10, 30, 20, 7, 36, 141846),\n",
       " datetime.datetime(2022, 10, 29, 20, 7, 36, 141846),\n",
       " datetime.datetime(2022, 10, 28, 20, 7, 36, 141846),\n",
       " datetime.datetime(2022, 10, 27, 20, 7, 36, 141846),\n",
       " datetime.datetime(2022, 10, 26, 20, 7, 36, 141846),\n",
       " datetime.datetime(2022, 10, 25, 20, 7, 36, 141846),\n",
       " datetime.datetime(2022, 10, 24, 20, 7, 36, 141846),\n",
       " datetime.datetime(2022, 10, 23, 20, 7, 36, 141846),\n",
       " datetime.datetime(2022, 10, 22, 20, 7, 36, 141846),\n",
       " datetime.datetime(2022, 10, 21, 20, 7, 36, 141846),\n",
       " datetime.datetime(2022, 10, 20, 20, 7, 36, 141846),\n",
       " datetime.datetime(2022, 10, 19, 20, 7, 36, 141846),\n",
       " datetime.datetime(2022, 10, 18, 20, 7, 36, 141846),\n",
       " datetime.datetime(2022, 10, 17, 20, 7, 36, 141846),\n",
       " datetime.datetime(2022, 10, 16, 20, 7, 36, 141846),\n",
       " datetime.datetime(2022, 10, 15, 20, 7, 36, 141846),\n",
       " datetime.datetime(2022, 10, 14, 20, 7, 36, 141846),\n",
       " datetime.datetime(2022, 10, 13, 20, 7, 36, 141846),\n",
       " datetime.datetime(2022, 10, 12, 20, 7, 36, 141846),\n",
       " datetime.datetime(2022, 10, 11, 20, 7, 36, 141846),\n",
       " datetime.datetime(2022, 10, 10, 20, 7, 36, 141846),\n",
       " datetime.datetime(2022, 10, 9, 20, 7, 36, 141846),\n",
       " datetime.datetime(2022, 10, 8, 20, 7, 36, 141846),\n",
       " datetime.datetime(2022, 10, 7, 20, 7, 36, 141846),\n",
       " datetime.datetime(2022, 10, 6, 20, 7, 36, 141846),\n",
       " datetime.datetime(2022, 10, 5, 20, 7, 36, 141846),\n",
       " datetime.datetime(2022, 10, 4, 20, 7, 36, 141846),\n",
       " datetime.datetime(2022, 10, 3, 20, 7, 36, 141846),\n",
       " datetime.datetime(2022, 10, 2, 20, 7, 36, 141846),\n",
       " datetime.datetime(2022, 10, 1, 20, 7, 36, 141846),\n",
       " datetime.datetime(2022, 9, 30, 20, 7, 36, 141846),\n",
       " datetime.datetime(2022, 9, 29, 20, 7, 36, 141846),\n",
       " datetime.datetime(2022, 9, 28, 20, 7, 36, 141846),\n",
       " datetime.datetime(2022, 9, 27, 20, 7, 36, 141846),\n",
       " datetime.datetime(2022, 9, 26, 20, 7, 36, 141846),\n",
       " datetime.datetime(2022, 9, 25, 20, 7, 36, 141846),\n",
       " datetime.datetime(2022, 9, 24, 20, 7, 36, 141846),\n",
       " datetime.datetime(2022, 9, 23, 20, 7, 36, 141846),\n",
       " datetime.datetime(2022, 9, 22, 20, 7, 36, 141846),\n",
       " datetime.datetime(2022, 9, 21, 20, 7, 36, 141846),\n",
       " datetime.datetime(2022, 9, 20, 20, 7, 36, 141846),\n",
       " datetime.datetime(2022, 9, 19, 20, 7, 36, 141846),\n",
       " datetime.datetime(2022, 9, 18, 20, 7, 36, 141846),\n",
       " datetime.datetime(2022, 9, 17, 20, 7, 36, 141846),\n",
       " datetime.datetime(2022, 9, 16, 20, 7, 36, 141846),\n",
       " datetime.datetime(2022, 9, 15, 20, 7, 36, 141846),\n",
       " datetime.datetime(2022, 9, 14, 20, 7, 36, 141846),\n",
       " datetime.datetime(2022, 9, 13, 20, 7, 36, 141846),\n",
       " datetime.datetime(2022, 9, 12, 20, 7, 36, 141846),\n",
       " datetime.datetime(2022, 9, 11, 20, 7, 36, 141846),\n",
       " datetime.datetime(2022, 9, 10, 20, 7, 36, 141846),\n",
       " datetime.datetime(2022, 9, 9, 20, 7, 36, 141846),\n",
       " datetime.datetime(2022, 9, 8, 20, 7, 36, 141846),\n",
       " datetime.datetime(2022, 9, 7, 20, 7, 36, 141846),\n",
       " datetime.datetime(2022, 9, 6, 20, 7, 36, 141846),\n",
       " datetime.datetime(2022, 9, 5, 20, 7, 36, 141846),\n",
       " datetime.datetime(2022, 9, 4, 20, 7, 36, 141846),\n",
       " datetime.datetime(2022, 9, 3, 20, 7, 36, 141846),\n",
       " datetime.datetime(2022, 9, 2, 20, 7, 36, 141846),\n",
       " datetime.datetime(2022, 9, 1, 20, 7, 36, 141846),\n",
       " datetime.datetime(2022, 8, 31, 20, 7, 36, 141846),\n",
       " datetime.datetime(2022, 8, 30, 20, 7, 36, 141846),\n",
       " datetime.datetime(2022, 8, 29, 20, 7, 36, 141846),\n",
       " datetime.datetime(2022, 8, 28, 20, 7, 36, 141846),\n",
       " datetime.datetime(2022, 8, 27, 20, 7, 36, 141846),\n",
       " datetime.datetime(2022, 8, 26, 20, 7, 36, 141846),\n",
       " datetime.datetime(2022, 8, 25, 20, 7, 36, 141846),\n",
       " datetime.datetime(2022, 8, 24, 20, 7, 36, 141846),\n",
       " datetime.datetime(2022, 8, 23, 20, 7, 36, 141846),\n",
       " datetime.datetime(2022, 8, 22, 20, 7, 36, 141846),\n",
       " datetime.datetime(2022, 8, 21, 20, 7, 36, 141846),\n",
       " datetime.datetime(2022, 8, 20, 20, 7, 36, 141846),\n",
       " datetime.datetime(2022, 8, 19, 20, 7, 36, 141846),\n",
       " datetime.datetime(2022, 8, 18, 20, 7, 36, 141846),\n",
       " datetime.datetime(2022, 8, 17, 20, 7, 36, 141846),\n",
       " datetime.datetime(2022, 8, 16, 20, 7, 36, 141846),\n",
       " datetime.datetime(2022, 8, 15, 20, 7, 36, 141846),\n",
       " datetime.datetime(2022, 8, 14, 20, 7, 36, 141846),\n",
       " datetime.datetime(2022, 8, 13, 20, 7, 36, 141846),\n",
       " datetime.datetime(2022, 8, 12, 20, 7, 36, 141846),\n",
       " datetime.datetime(2022, 8, 11, 20, 7, 36, 141846),\n",
       " datetime.datetime(2022, 8, 10, 20, 7, 36, 141846),\n",
       " datetime.datetime(2022, 8, 9, 20, 7, 36, 141846),\n",
       " datetime.datetime(2022, 8, 8, 20, 7, 36, 141846),\n",
       " datetime.datetime(2022, 8, 7, 20, 7, 36, 141846),\n",
       " datetime.datetime(2022, 8, 6, 20, 7, 36, 141846),\n",
       " datetime.datetime(2022, 8, 5, 20, 7, 36, 141846),\n",
       " datetime.datetime(2022, 8, 4, 20, 7, 36, 141846),\n",
       " datetime.datetime(2022, 8, 3, 20, 7, 36, 141846),\n",
       " datetime.datetime(2022, 8, 2, 20, 7, 36, 141846),\n",
       " datetime.datetime(2022, 8, 1, 20, 7, 36, 141846),\n",
       " datetime.datetime(2022, 7, 31, 20, 7, 36, 141846),\n",
       " datetime.datetime(2022, 7, 30, 20, 7, 36, 141846),\n",
       " datetime.datetime(2022, 7, 29, 20, 7, 36, 141846),\n",
       " datetime.datetime(2022, 7, 28, 20, 7, 36, 141846),\n",
       " datetime.datetime(2022, 7, 27, 20, 7, 36, 141846),\n",
       " datetime.datetime(2022, 7, 26, 20, 7, 36, 141846),\n",
       " datetime.datetime(2022, 7, 25, 20, 7, 36, 141846),\n",
       " datetime.datetime(2022, 7, 24, 20, 7, 36, 141846),\n",
       " datetime.datetime(2022, 7, 23, 20, 7, 36, 141846),\n",
       " datetime.datetime(2022, 7, 22, 20, 7, 36, 141846),\n",
       " datetime.datetime(2022, 7, 21, 20, 7, 36, 141846),\n",
       " datetime.datetime(2022, 7, 20, 20, 7, 36, 141846),\n",
       " datetime.datetime(2022, 7, 19, 20, 7, 36, 141846),\n",
       " datetime.datetime(2022, 7, 18, 20, 7, 36, 141846),\n",
       " datetime.datetime(2022, 7, 17, 20, 7, 36, 141846),\n",
       " datetime.datetime(2022, 7, 16, 20, 7, 36, 141846),\n",
       " datetime.datetime(2022, 7, 15, 20, 7, 36, 141846),\n",
       " datetime.datetime(2022, 7, 14, 20, 7, 36, 141846),\n",
       " datetime.datetime(2022, 7, 13, 20, 7, 36, 141846),\n",
       " datetime.datetime(2022, 7, 12, 20, 7, 36, 141846),\n",
       " datetime.datetime(2022, 7, 11, 20, 7, 36, 141846),\n",
       " datetime.datetime(2022, 7, 10, 20, 7, 36, 141846),\n",
       " datetime.datetime(2022, 7, 9, 20, 7, 36, 141846),\n",
       " datetime.datetime(2022, 7, 8, 20, 7, 36, 141846),\n",
       " datetime.datetime(2022, 7, 7, 20, 7, 36, 141846),\n",
       " datetime.datetime(2022, 7, 6, 20, 7, 36, 141846),\n",
       " datetime.datetime(2022, 7, 5, 20, 7, 36, 141846),\n",
       " datetime.datetime(2022, 7, 4, 20, 7, 36, 141846),\n",
       " datetime.datetime(2022, 7, 3, 20, 7, 36, 141846),\n",
       " datetime.datetime(2022, 7, 2, 20, 7, 36, 141846),\n",
       " datetime.datetime(2022, 7, 1, 20, 7, 36, 141846),\n",
       " datetime.datetime(2022, 6, 30, 20, 7, 36, 141846),\n",
       " datetime.datetime(2022, 6, 29, 20, 7, 36, 141846),\n",
       " datetime.datetime(2022, 6, 28, 20, 7, 36, 141846),\n",
       " datetime.datetime(2022, 6, 27, 20, 7, 36, 141846),\n",
       " datetime.datetime(2022, 6, 26, 20, 7, 36, 141846),\n",
       " datetime.datetime(2022, 6, 25, 20, 7, 36, 141846),\n",
       " datetime.datetime(2022, 6, 24, 20, 7, 36, 141846),\n",
       " datetime.datetime(2022, 6, 23, 20, 7, 36, 141846),\n",
       " datetime.datetime(2022, 6, 22, 20, 7, 36, 141846),\n",
       " datetime.datetime(2022, 6, 21, 20, 7, 36, 141846),\n",
       " datetime.datetime(2022, 6, 20, 20, 7, 36, 141846),\n",
       " datetime.datetime(2022, 6, 19, 20, 7, 36, 141846),\n",
       " datetime.datetime(2022, 6, 18, 20, 7, 36, 141846),\n",
       " datetime.datetime(2022, 6, 17, 20, 7, 36, 141846),\n",
       " datetime.datetime(2022, 6, 16, 20, 7, 36, 141846),\n",
       " datetime.datetime(2022, 6, 15, 20, 7, 36, 141846),\n",
       " datetime.datetime(2022, 6, 14, 20, 7, 36, 141846),\n",
       " datetime.datetime(2022, 6, 13, 20, 7, 36, 141846),\n",
       " datetime.datetime(2022, 6, 12, 20, 7, 36, 141846),\n",
       " datetime.datetime(2022, 6, 11, 20, 7, 36, 141846),\n",
       " datetime.datetime(2022, 6, 10, 20, 7, 36, 141846),\n",
       " datetime.datetime(2022, 6, 9, 20, 7, 36, 141846),\n",
       " datetime.datetime(2022, 6, 8, 20, 7, 36, 141846),\n",
       " datetime.datetime(2022, 6, 7, 20, 7, 36, 141846),\n",
       " datetime.datetime(2022, 6, 6, 20, 7, 36, 141846),\n",
       " datetime.datetime(2022, 6, 5, 20, 7, 36, 141846),\n",
       " datetime.datetime(2022, 6, 4, 20, 7, 36, 141846),\n",
       " datetime.datetime(2022, 6, 3, 20, 7, 36, 141846),\n",
       " datetime.datetime(2022, 6, 2, 20, 7, 36, 141846),\n",
       " datetime.datetime(2022, 6, 1, 20, 7, 36, 141846),\n",
       " datetime.datetime(2022, 5, 31, 20, 7, 36, 141846),\n",
       " datetime.datetime(2022, 5, 30, 20, 7, 36, 141846),\n",
       " datetime.datetime(2022, 5, 29, 20, 7, 36, 141846),\n",
       " datetime.datetime(2022, 5, 28, 20, 7, 36, 141846),\n",
       " datetime.datetime(2022, 5, 27, 20, 7, 36, 141846),\n",
       " datetime.datetime(2022, 5, 26, 20, 7, 36, 141846),\n",
       " datetime.datetime(2022, 5, 25, 20, 7, 36, 141846),\n",
       " datetime.datetime(2022, 5, 24, 20, 7, 36, 141846),\n",
       " datetime.datetime(2022, 5, 23, 20, 7, 36, 141846),\n",
       " datetime.datetime(2022, 5, 22, 20, 7, 36, 141846),\n",
       " datetime.datetime(2022, 5, 21, 20, 7, 36, 141846),\n",
       " datetime.datetime(2022, 5, 20, 20, 7, 36, 141846),\n",
       " datetime.datetime(2022, 5, 19, 20, 7, 36, 141846),\n",
       " datetime.datetime(2022, 5, 18, 20, 7, 36, 141846),\n",
       " datetime.datetime(2022, 5, 17, 20, 7, 36, 141846),\n",
       " datetime.datetime(2022, 5, 16, 20, 7, 36, 141846),\n",
       " datetime.datetime(2022, 5, 15, 20, 7, 36, 141846),\n",
       " datetime.datetime(2022, 5, 14, 20, 7, 36, 141846),\n",
       " datetime.datetime(2022, 5, 13, 20, 7, 36, 141846),\n",
       " datetime.datetime(2022, 5, 12, 20, 7, 36, 141846),\n",
       " datetime.datetime(2022, 5, 11, 20, 7, 36, 141846),\n",
       " datetime.datetime(2022, 5, 10, 20, 7, 36, 141846),\n",
       " datetime.datetime(2022, 5, 9, 20, 7, 36, 141846),\n",
       " datetime.datetime(2022, 5, 8, 20, 7, 36, 141846),\n",
       " datetime.datetime(2022, 5, 7, 20, 7, 36, 141846),\n",
       " datetime.datetime(2022, 5, 6, 20, 7, 36, 141846),\n",
       " datetime.datetime(2022, 5, 5, 20, 7, 36, 141846),\n",
       " datetime.datetime(2022, 5, 4, 20, 7, 36, 141846),\n",
       " datetime.datetime(2022, 5, 3, 20, 7, 36, 141846),\n",
       " datetime.datetime(2022, 5, 2, 20, 7, 36, 141846),\n",
       " datetime.datetime(2022, 5, 1, 20, 7, 36, 141846),\n",
       " datetime.datetime(2022, 4, 30, 20, 7, 36, 141846),\n",
       " datetime.datetime(2022, 4, 29, 20, 7, 36, 141846),\n",
       " datetime.datetime(2022, 4, 28, 20, 7, 36, 141846),\n",
       " datetime.datetime(2022, 4, 27, 20, 7, 36, 141846),\n",
       " datetime.datetime(2022, 4, 26, 20, 7, 36, 141846),\n",
       " datetime.datetime(2022, 4, 25, 20, 7, 36, 141846),\n",
       " datetime.datetime(2022, 4, 24, 20, 7, 36, 141846),\n",
       " datetime.datetime(2022, 4, 23, 20, 7, 36, 141846),\n",
       " datetime.datetime(2022, 4, 22, 20, 7, 36, 141846),\n",
       " datetime.datetime(2022, 4, 21, 20, 7, 36, 141846),\n",
       " datetime.datetime(2022, 4, 20, 20, 7, 36, 141846),\n",
       " datetime.datetime(2022, 4, 19, 20, 7, 36, 141846),\n",
       " datetime.datetime(2022, 4, 18, 20, 7, 36, 141846),\n",
       " datetime.datetime(2022, 4, 17, 20, 7, 36, 141846),\n",
       " datetime.datetime(2022, 4, 16, 20, 7, 36, 141846),\n",
       " datetime.datetime(2022, 4, 15, 20, 7, 36, 141846),\n",
       " datetime.datetime(2022, 4, 14, 20, 7, 36, 141846),\n",
       " datetime.datetime(2022, 4, 13, 20, 7, 36, 141846),\n",
       " datetime.datetime(2022, 4, 12, 20, 7, 36, 141846),\n",
       " datetime.datetime(2022, 4, 11, 20, 7, 36, 141846),\n",
       " datetime.datetime(2022, 4, 10, 20, 7, 36, 141846),\n",
       " datetime.datetime(2022, 4, 9, 20, 7, 36, 141846),\n",
       " datetime.datetime(2022, 4, 8, 20, 7, 36, 141846),\n",
       " datetime.datetime(2022, 4, 7, 20, 7, 36, 141846),\n",
       " datetime.datetime(2022, 4, 6, 20, 7, 36, 141846),\n",
       " datetime.datetime(2022, 4, 5, 20, 7, 36, 141846),\n",
       " datetime.datetime(2022, 4, 4, 20, 7, 36, 141846),\n",
       " datetime.datetime(2022, 4, 3, 20, 7, 36, 141846),\n",
       " datetime.datetime(2022, 4, 2, 20, 7, 36, 141846),\n",
       " datetime.datetime(2022, 4, 1, 20, 7, 36, 141846),\n",
       " datetime.datetime(2022, 3, 31, 20, 7, 36, 141846),\n",
       " datetime.datetime(2022, 3, 30, 20, 7, 36, 141846),\n",
       " datetime.datetime(2022, 3, 29, 20, 7, 36, 141846),\n",
       " datetime.datetime(2022, 3, 28, 20, 7, 36, 141846),\n",
       " datetime.datetime(2022, 3, 27, 20, 7, 36, 141846),\n",
       " datetime.datetime(2022, 3, 26, 20, 7, 36, 141846),\n",
       " datetime.datetime(2022, 3, 25, 20, 7, 36, 141846),\n",
       " datetime.datetime(2022, 3, 24, 20, 7, 36, 141846),\n",
       " datetime.datetime(2022, 3, 23, 20, 7, 36, 141846),\n",
       " datetime.datetime(2022, 3, 22, 20, 7, 36, 141846),\n",
       " datetime.datetime(2022, 3, 21, 20, 7, 36, 141846),\n",
       " datetime.datetime(2022, 3, 20, 20, 7, 36, 141846),\n",
       " datetime.datetime(2022, 3, 19, 20, 7, 36, 141846),\n",
       " datetime.datetime(2022, 3, 18, 20, 7, 36, 141846),\n",
       " datetime.datetime(2022, 3, 17, 20, 7, 36, 141846),\n",
       " datetime.datetime(2022, 3, 16, 20, 7, 36, 141846),\n",
       " datetime.datetime(2022, 3, 15, 20, 7, 36, 141846),\n",
       " datetime.datetime(2022, 3, 14, 20, 7, 36, 141846),\n",
       " datetime.datetime(2022, 3, 13, 20, 7, 36, 141846),\n",
       " datetime.datetime(2022, 3, 12, 20, 7, 36, 141846),\n",
       " datetime.datetime(2022, 3, 11, 20, 7, 36, 141846),\n",
       " datetime.datetime(2022, 3, 10, 20, 7, 36, 141846),\n",
       " datetime.datetime(2022, 3, 9, 20, 7, 36, 141846),\n",
       " datetime.datetime(2022, 3, 8, 20, 7, 36, 141846),\n",
       " datetime.datetime(2022, 3, 7, 20, 7, 36, 141846),\n",
       " datetime.datetime(2022, 3, 6, 20, 7, 36, 141846),\n",
       " datetime.datetime(2022, 3, 5, 20, 7, 36, 141846),\n",
       " datetime.datetime(2022, 3, 4, 20, 7, 36, 141846),\n",
       " datetime.datetime(2022, 3, 3, 20, 7, 36, 141846),\n",
       " datetime.datetime(2022, 3, 2, 20, 7, 36, 141846),\n",
       " datetime.datetime(2022, 3, 1, 20, 7, 36, 141846),\n",
       " datetime.datetime(2022, 2, 28, 20, 7, 36, 141846),\n",
       " datetime.datetime(2022, 2, 27, 20, 7, 36, 141846),\n",
       " datetime.datetime(2022, 2, 26, 20, 7, 36, 141846),\n",
       " datetime.datetime(2022, 2, 25, 20, 7, 36, 141846),\n",
       " datetime.datetime(2022, 2, 24, 20, 7, 36, 141846),\n",
       " datetime.datetime(2022, 2, 23, 20, 7, 36, 141846),\n",
       " datetime.datetime(2022, 2, 22, 20, 7, 36, 141846),\n",
       " datetime.datetime(2022, 2, 21, 20, 7, 36, 141846),\n",
       " datetime.datetime(2022, 2, 20, 20, 7, 36, 141846),\n",
       " datetime.datetime(2022, 2, 19, 20, 7, 36, 141846),\n",
       " datetime.datetime(2022, 2, 18, 20, 7, 36, 141846),\n",
       " datetime.datetime(2022, 2, 17, 20, 7, 36, 141846),\n",
       " datetime.datetime(2022, 2, 16, 20, 7, 36, 141846),\n",
       " datetime.datetime(2022, 2, 15, 20, 7, 36, 141846),\n",
       " datetime.datetime(2022, 2, 14, 20, 7, 36, 141846),\n",
       " datetime.datetime(2022, 2, 13, 20, 7, 36, 141846),\n",
       " datetime.datetime(2022, 2, 12, 20, 7, 36, 141846),\n",
       " datetime.datetime(2022, 2, 11, 20, 7, 36, 141846),\n",
       " datetime.datetime(2022, 2, 10, 20, 7, 36, 141846),\n",
       " datetime.datetime(2022, 2, 9, 20, 7, 36, 141846),\n",
       " datetime.datetime(2022, 2, 8, 20, 7, 36, 141846),\n",
       " datetime.datetime(2022, 2, 7, 20, 7, 36, 141846),\n",
       " datetime.datetime(2022, 2, 6, 20, 7, 36, 141846),\n",
       " datetime.datetime(2022, 2, 5, 20, 7, 36, 141846),\n",
       " datetime.datetime(2022, 2, 4, 20, 7, 36, 141846),\n",
       " datetime.datetime(2022, 2, 3, 20, 7, 36, 141846),\n",
       " datetime.datetime(2022, 2, 2, 20, 7, 36, 141846),\n",
       " datetime.datetime(2022, 2, 1, 20, 7, 36, 141846),\n",
       " datetime.datetime(2022, 1, 31, 20, 7, 36, 141846),\n",
       " datetime.datetime(2022, 1, 30, 20, 7, 36, 141846),\n",
       " datetime.datetime(2022, 1, 29, 20, 7, 36, 141846),\n",
       " datetime.datetime(2022, 1, 28, 20, 7, 36, 141846),\n",
       " datetime.datetime(2022, 1, 27, 20, 7, 36, 141846),\n",
       " datetime.datetime(2022, 1, 26, 20, 7, 36, 141846),\n",
       " datetime.datetime(2022, 1, 25, 20, 7, 36, 141846),\n",
       " datetime.datetime(2022, 1, 24, 20, 7, 36, 141846),\n",
       " datetime.datetime(2022, 1, 23, 20, 7, 36, 141846),\n",
       " datetime.datetime(2022, 1, 22, 20, 7, 36, 141846),\n",
       " datetime.datetime(2022, 1, 21, 20, 7, 36, 141846),\n",
       " datetime.datetime(2022, 1, 20, 20, 7, 36, 141846),\n",
       " datetime.datetime(2022, 1, 19, 20, 7, 36, 141846),\n",
       " datetime.datetime(2022, 1, 18, 20, 7, 36, 141846),\n",
       " datetime.datetime(2022, 1, 17, 20, 7, 36, 141846),\n",
       " datetime.datetime(2022, 1, 16, 20, 7, 36, 141846),\n",
       " datetime.datetime(2022, 1, 15, 20, 7, 36, 141846),\n",
       " datetime.datetime(2022, 1, 14, 20, 7, 36, 141846),\n",
       " datetime.datetime(2022, 1, 13, 20, 7, 36, 141846),\n",
       " datetime.datetime(2022, 1, 12, 20, 7, 36, 141846),\n",
       " datetime.datetime(2022, 1, 11, 20, 7, 36, 141846),\n",
       " datetime.datetime(2022, 1, 10, 20, 7, 36, 141846),\n",
       " datetime.datetime(2022, 1, 9, 20, 7, 36, 141846),\n",
       " datetime.datetime(2022, 1, 8, 20, 7, 36, 141846),\n",
       " datetime.datetime(2022, 1, 7, 20, 7, 36, 141846),\n",
       " datetime.datetime(2022, 1, 6, 20, 7, 36, 141846),\n",
       " datetime.datetime(2022, 1, 5, 20, 7, 36, 141846),\n",
       " datetime.datetime(2022, 1, 4, 20, 7, 36, 141846),\n",
       " datetime.datetime(2022, 1, 3, 20, 7, 36, 141846),\n",
       " datetime.datetime(2022, 1, 2, 20, 7, 36, 141846),\n",
       " datetime.datetime(2022, 1, 1, 20, 7, 36, 141846),\n",
       " datetime.datetime(2021, 12, 31, 20, 7, 36, 141846),\n",
       " datetime.datetime(2021, 12, 30, 20, 7, 36, 141846),\n",
       " datetime.datetime(2021, 12, 29, 20, 7, 36, 141846),\n",
       " datetime.datetime(2021, 12, 28, 20, 7, 36, 141846),\n",
       " datetime.datetime(2021, 12, 27, 20, 7, 36, 141846),\n",
       " datetime.datetime(2021, 12, 26, 20, 7, 36, 141846),\n",
       " datetime.datetime(2021, 12, 25, 20, 7, 36, 141846),\n",
       " datetime.datetime(2021, 12, 24, 20, 7, 36, 141846),\n",
       " datetime.datetime(2021, 12, 23, 20, 7, 36, 141846),\n",
       " datetime.datetime(2021, 12, 22, 20, 7, 36, 141846),\n",
       " datetime.datetime(2021, 12, 21, 20, 7, 36, 141846),\n",
       " datetime.datetime(2021, 12, 20, 20, 7, 36, 141846),\n",
       " datetime.datetime(2021, 12, 19, 20, 7, 36, 141846),\n",
       " datetime.datetime(2021, 12, 18, 20, 7, 36, 141846),\n",
       " datetime.datetime(2021, 12, 17, 20, 7, 36, 141846),\n",
       " datetime.datetime(2021, 12, 16, 20, 7, 36, 141846),\n",
       " datetime.datetime(2021, 12, 15, 20, 7, 36, 141846),\n",
       " datetime.datetime(2021, 12, 14, 20, 7, 36, 141846),\n",
       " datetime.datetime(2021, 12, 13, 20, 7, 36, 141846),\n",
       " datetime.datetime(2021, 12, 12, 20, 7, 36, 141846),\n",
       " datetime.datetime(2021, 12, 11, 20, 7, 36, 141846),\n",
       " datetime.datetime(2021, 12, 10, 20, 7, 36, 141846),\n",
       " datetime.datetime(2021, 12, 9, 20, 7, 36, 141846),\n",
       " datetime.datetime(2021, 12, 8, 20, 7, 36, 141846),\n",
       " datetime.datetime(2021, 12, 7, 20, 7, 36, 141846),\n",
       " datetime.datetime(2021, 12, 6, 20, 7, 36, 141846),\n",
       " datetime.datetime(2021, 12, 5, 20, 7, 36, 141846),\n",
       " datetime.datetime(2021, 12, 4, 20, 7, 36, 141846),\n",
       " datetime.datetime(2021, 12, 3, 20, 7, 36, 141846),\n",
       " datetime.datetime(2021, 12, 2, 20, 7, 36, 141846),\n",
       " datetime.datetime(2021, 12, 1, 20, 7, 36, 141846),\n",
       " datetime.datetime(2021, 11, 30, 20, 7, 36, 141846),\n",
       " datetime.datetime(2021, 11, 29, 20, 7, 36, 141846),\n",
       " datetime.datetime(2021, 11, 28, 20, 7, 36, 141846),\n",
       " datetime.datetime(2021, 11, 27, 20, 7, 36, 141846),\n",
       " datetime.datetime(2021, 11, 26, 20, 7, 36, 141846),\n",
       " datetime.datetime(2021, 11, 25, 20, 7, 36, 141846),\n",
       " datetime.datetime(2021, 11, 24, 20, 7, 36, 141846),\n",
       " datetime.datetime(2021, 11, 23, 20, 7, 36, 141846),\n",
       " datetime.datetime(2021, 11, 22, 20, 7, 36, 141846),\n",
       " datetime.datetime(2021, 11, 21, 20, 7, 36, 141846),\n",
       " datetime.datetime(2021, 11, 20, 20, 7, 36, 141846),\n",
       " datetime.datetime(2021, 11, 19, 20, 7, 36, 141846),\n",
       " datetime.datetime(2021, 11, 18, 20, 7, 36, 141846),\n",
       " datetime.datetime(2021, 11, 17, 20, 7, 36, 141846),\n",
       " datetime.datetime(2021, 11, 16, 20, 7, 36, 141846),\n",
       " datetime.datetime(2021, 11, 15, 20, 7, 36, 141846),\n",
       " datetime.datetime(2021, 11, 14, 20, 7, 36, 141846),\n",
       " datetime.datetime(2021, 11, 13, 20, 7, 36, 141846),\n",
       " datetime.datetime(2021, 11, 12, 20, 7, 36, 141846),\n",
       " datetime.datetime(2021, 11, 11, 20, 7, 36, 141846),\n",
       " datetime.datetime(2021, 11, 10, 20, 7, 36, 141846),\n",
       " datetime.datetime(2021, 11, 9, 20, 7, 36, 141846),\n",
       " datetime.datetime(2021, 11, 8, 20, 7, 36, 141846),\n",
       " datetime.datetime(2021, 11, 7, 20, 7, 36, 141846),\n",
       " datetime.datetime(2021, 11, 6, 20, 7, 36, 141846),\n",
       " datetime.datetime(2021, 11, 5, 20, 7, 36, 141846),\n",
       " datetime.datetime(2021, 11, 4, 20, 7, 36, 141846),\n",
       " datetime.datetime(2021, 11, 3, 20, 7, 36, 141846),\n",
       " datetime.datetime(2021, 11, 2, 20, 7, 36, 141846),\n",
       " datetime.datetime(2021, 11, 1, 20, 7, 36, 141846),\n",
       " datetime.datetime(2021, 10, 31, 20, 7, 36, 141846),\n",
       " datetime.datetime(2021, 10, 30, 20, 7, 36, 141846),\n",
       " datetime.datetime(2021, 10, 29, 20, 7, 36, 141846),\n",
       " datetime.datetime(2021, 10, 28, 20, 7, 36, 141846),\n",
       " datetime.datetime(2021, 10, 27, 20, 7, 36, 141846),\n",
       " datetime.datetime(2021, 10, 26, 20, 7, 36, 141846),\n",
       " datetime.datetime(2021, 10, 25, 20, 7, 36, 141846),\n",
       " datetime.datetime(2021, 10, 24, 20, 7, 36, 141846),\n",
       " datetime.datetime(2021, 10, 23, 20, 7, 36, 141846),\n",
       " datetime.datetime(2021, 10, 22, 20, 7, 36, 141846),\n",
       " datetime.datetime(2021, 10, 21, 20, 7, 36, 141846),\n",
       " datetime.datetime(2021, 10, 20, 20, 7, 36, 141846),\n",
       " datetime.datetime(2021, 10, 19, 20, 7, 36, 141846),\n",
       " datetime.datetime(2021, 10, 18, 20, 7, 36, 141846),\n",
       " datetime.datetime(2021, 10, 17, 20, 7, 36, 141846),\n",
       " datetime.datetime(2021, 10, 16, 20, 7, 36, 141846),\n",
       " datetime.datetime(2021, 10, 15, 20, 7, 36, 141846),\n",
       " datetime.datetime(2021, 10, 14, 20, 7, 36, 141846),\n",
       " datetime.datetime(2021, 10, 13, 20, 7, 36, 141846),\n",
       " datetime.datetime(2021, 10, 12, 20, 7, 36, 141846),\n",
       " datetime.datetime(2021, 10, 11, 20, 7, 36, 141846),\n",
       " datetime.datetime(2021, 10, 10, 20, 7, 36, 141846),\n",
       " datetime.datetime(2021, 10, 9, 20, 7, 36, 141846),\n",
       " datetime.datetime(2021, 10, 8, 20, 7, 36, 141846),\n",
       " datetime.datetime(2021, 10, 7, 20, 7, 36, 141846),\n",
       " datetime.datetime(2021, 10, 6, 20, 7, 36, 141846),\n",
       " datetime.datetime(2021, 10, 5, 20, 7, 36, 141846),\n",
       " datetime.datetime(2021, 10, 4, 20, 7, 36, 141846),\n",
       " datetime.datetime(2021, 10, 3, 20, 7, 36, 141846),\n",
       " datetime.datetime(2021, 10, 2, 20, 7, 36, 141846),\n",
       " datetime.datetime(2021, 10, 1, 20, 7, 36, 141846),\n",
       " datetime.datetime(2021, 9, 30, 20, 7, 36, 141846),\n",
       " datetime.datetime(2021, 9, 29, 20, 7, 36, 141846),\n",
       " datetime.datetime(2021, 9, 28, 20, 7, 36, 141846),\n",
       " datetime.datetime(2021, 9, 27, 20, 7, 36, 141846),\n",
       " datetime.datetime(2021, 9, 26, 20, 7, 36, 141846),\n",
       " datetime.datetime(2021, 9, 25, 20, 7, 36, 141846),\n",
       " datetime.datetime(2021, 9, 24, 20, 7, 36, 141846),\n",
       " datetime.datetime(2021, 9, 23, 20, 7, 36, 141846),\n",
       " datetime.datetime(2021, 9, 22, 20, 7, 36, 141846),\n",
       " datetime.datetime(2021, 9, 21, 20, 7, 36, 141846),\n",
       " datetime.datetime(2021, 9, 20, 20, 7, 36, 141846),\n",
       " datetime.datetime(2021, 9, 19, 20, 7, 36, 141846),\n",
       " datetime.datetime(2021, 9, 18, 20, 7, 36, 141846),\n",
       " datetime.datetime(2021, 9, 17, 20, 7, 36, 141846),\n",
       " datetime.datetime(2021, 9, 16, 20, 7, 36, 141846),\n",
       " datetime.datetime(2021, 9, 15, 20, 7, 36, 141846),\n",
       " datetime.datetime(2021, 9, 14, 20, 7, 36, 141846),\n",
       " datetime.datetime(2021, 9, 13, 20, 7, 36, 141846),\n",
       " datetime.datetime(2021, 9, 12, 20, 7, 36, 141846),\n",
       " datetime.datetime(2021, 9, 11, 20, 7, 36, 141846),\n",
       " datetime.datetime(2021, 9, 10, 20, 7, 36, 141846),\n",
       " datetime.datetime(2021, 9, 9, 20, 7, 36, 141846),\n",
       " datetime.datetime(2021, 9, 8, 20, 7, 36, 141846),\n",
       " datetime.datetime(2021, 9, 7, 20, 7, 36, 141846),\n",
       " datetime.datetime(2021, 9, 6, 20, 7, 36, 141846),\n",
       " datetime.datetime(2021, 9, 5, 20, 7, 36, 141846),\n",
       " datetime.datetime(2021, 9, 4, 20, 7, 36, 141846),\n",
       " datetime.datetime(2021, 9, 3, 20, 7, 36, 141846),\n",
       " datetime.datetime(2021, 9, 2, 20, 7, 36, 141846),\n",
       " datetime.datetime(2021, 9, 1, 20, 7, 36, 141846),\n",
       " datetime.datetime(2021, 8, 31, 20, 7, 36, 141846),\n",
       " datetime.datetime(2021, 8, 30, 20, 7, 36, 141846),\n",
       " datetime.datetime(2021, 8, 29, 20, 7, 36, 141846),\n",
       " datetime.datetime(2021, 8, 28, 20, 7, 36, 141846),\n",
       " datetime.datetime(2021, 8, 27, 20, 7, 36, 141846),\n",
       " datetime.datetime(2021, 8, 26, 20, 7, 36, 141846),\n",
       " datetime.datetime(2021, 8, 25, 20, 7, 36, 141846),\n",
       " datetime.datetime(2021, 8, 24, 20, 7, 36, 141846),\n",
       " datetime.datetime(2021, 8, 23, 20, 7, 36, 141846),\n",
       " datetime.datetime(2021, 8, 22, 20, 7, 36, 141846),\n",
       " datetime.datetime(2021, 8, 21, 20, 7, 36, 141846),\n",
       " datetime.datetime(2021, 8, 20, 20, 7, 36, 141846),\n",
       " datetime.datetime(2021, 8, 19, 20, 7, 36, 141846),\n",
       " datetime.datetime(2021, 8, 18, 20, 7, 36, 141846),\n",
       " datetime.datetime(2021, 8, 17, 20, 7, 36, 141846),\n",
       " datetime.datetime(2021, 8, 16, 20, 7, 36, 141846),\n",
       " datetime.datetime(2021, 8, 15, 20, 7, 36, 141846),\n",
       " datetime.datetime(2021, 8, 14, 20, 7, 36, 141846),\n",
       " datetime.datetime(2021, 8, 13, 20, 7, 36, 141846),\n",
       " datetime.datetime(2021, 8, 12, 20, 7, 36, 141846),\n",
       " datetime.datetime(2021, 8, 11, 20, 7, 36, 141846),\n",
       " datetime.datetime(2021, 8, 10, 20, 7, 36, 141846),\n",
       " datetime.datetime(2021, 8, 9, 20, 7, 36, 141846),\n",
       " datetime.datetime(2021, 8, 8, 20, 7, 36, 141846),\n",
       " datetime.datetime(2021, 8, 7, 20, 7, 36, 141846),\n",
       " datetime.datetime(2021, 8, 6, 20, 7, 36, 141846),\n",
       " datetime.datetime(2021, 8, 5, 20, 7, 36, 141846),\n",
       " datetime.datetime(2021, 8, 4, 20, 7, 36, 141846),\n",
       " datetime.datetime(2021, 8, 3, 20, 7, 36, 141846),\n",
       " datetime.datetime(2021, 8, 2, 20, 7, 36, 141846),\n",
       " datetime.datetime(2021, 8, 1, 20, 7, 36, 141846),\n",
       " datetime.datetime(2021, 7, 31, 20, 7, 36, 141846),\n",
       " datetime.datetime(2021, 7, 30, 20, 7, 36, 141846),\n",
       " datetime.datetime(2021, 7, 29, 20, 7, 36, 141846),\n",
       " datetime.datetime(2021, 7, 28, 20, 7, 36, 141846),\n",
       " datetime.datetime(2021, 7, 27, 20, 7, 36, 141846),\n",
       " datetime.datetime(2021, 7, 26, 20, 7, 36, 141846),\n",
       " datetime.datetime(2021, 7, 25, 20, 7, 36, 141846),\n",
       " datetime.datetime(2021, 7, 24, 20, 7, 36, 141846),\n",
       " datetime.datetime(2021, 7, 23, 20, 7, 36, 141846),\n",
       " datetime.datetime(2021, 7, 22, 20, 7, 36, 141846),\n",
       " datetime.datetime(2021, 7, 21, 20, 7, 36, 141846),\n",
       " datetime.datetime(2021, 7, 20, 20, 7, 36, 141846),\n",
       " datetime.datetime(2021, 7, 19, 20, 7, 36, 141846),\n",
       " datetime.datetime(2021, 7, 18, 20, 7, 36, 141846),\n",
       " datetime.datetime(2021, 7, 17, 20, 7, 36, 141846),\n",
       " datetime.datetime(2021, 7, 16, 20, 7, 36, 141846),\n",
       " datetime.datetime(2021, 7, 15, 20, 7, 36, 141846),\n",
       " datetime.datetime(2021, 7, 14, 20, 7, 36, 141846),\n",
       " datetime.datetime(2021, 7, 13, 20, 7, 36, 141846),\n",
       " datetime.datetime(2021, 7, 12, 20, 7, 36, 141846),\n",
       " datetime.datetime(2021, 7, 11, 20, 7, 36, 141846),\n",
       " datetime.datetime(2021, 7, 10, 20, 7, 36, 141846),\n",
       " datetime.datetime(2021, 7, 9, 20, 7, 36, 141846),\n",
       " datetime.datetime(2021, 7, 8, 20, 7, 36, 141846),\n",
       " datetime.datetime(2021, 7, 7, 20, 7, 36, 141846),\n",
       " datetime.datetime(2021, 7, 6, 20, 7, 36, 141846),\n",
       " datetime.datetime(2021, 7, 5, 20, 7, 36, 141846),\n",
       " datetime.datetime(2021, 7, 4, 20, 7, 36, 141846),\n",
       " datetime.datetime(2021, 7, 3, 20, 7, 36, 141846),\n",
       " datetime.datetime(2021, 7, 2, 20, 7, 36, 141846),\n",
       " datetime.datetime(2021, 7, 1, 20, 7, 36, 141846),\n",
       " datetime.datetime(2021, 6, 30, 20, 7, 36, 141846),\n",
       " datetime.datetime(2021, 6, 29, 20, 7, 36, 141846),\n",
       " datetime.datetime(2021, 6, 28, 20, 7, 36, 141846),\n",
       " datetime.datetime(2021, 6, 27, 20, 7, 36, 141846),\n",
       " datetime.datetime(2021, 6, 26, 20, 7, 36, 141846),\n",
       " datetime.datetime(2021, 6, 25, 20, 7, 36, 141846),\n",
       " datetime.datetime(2021, 6, 24, 20, 7, 36, 141846),\n",
       " datetime.datetime(2021, 6, 23, 20, 7, 36, 141846),\n",
       " datetime.datetime(2021, 6, 22, 20, 7, 36, 141846),\n",
       " datetime.datetime(2021, 6, 21, 20, 7, 36, 141846),\n",
       " datetime.datetime(2021, 6, 20, 20, 7, 36, 141846),\n",
       " datetime.datetime(2021, 6, 19, 20, 7, 36, 141846),\n",
       " datetime.datetime(2021, 6, 18, 20, 7, 36, 141846),\n",
       " datetime.datetime(2021, 6, 17, 20, 7, 36, 141846),\n",
       " datetime.datetime(2021, 6, 16, 20, 7, 36, 141846),\n",
       " datetime.datetime(2021, 6, 15, 20, 7, 36, 141846),\n",
       " datetime.datetime(2021, 6, 14, 20, 7, 36, 141846),\n",
       " datetime.datetime(2021, 6, 13, 20, 7, 36, 141846),\n",
       " datetime.datetime(2021, 6, 12, 20, 7, 36, 141846),\n",
       " datetime.datetime(2021, 6, 11, 20, 7, 36, 141846),\n",
       " datetime.datetime(2021, 6, 10, 20, 7, 36, 141846),\n",
       " datetime.datetime(2021, 6, 9, 20, 7, 36, 141846),\n",
       " datetime.datetime(2021, 6, 8, 20, 7, 36, 141846),\n",
       " datetime.datetime(2021, 6, 7, 20, 7, 36, 141846),\n",
       " datetime.datetime(2021, 6, 6, 20, 7, 36, 141846),\n",
       " datetime.datetime(2021, 6, 5, 20, 7, 36, 141846),\n",
       " datetime.datetime(2021, 6, 4, 20, 7, 36, 141846),\n",
       " datetime.datetime(2021, 6, 3, 20, 7, 36, 141846),\n",
       " datetime.datetime(2021, 6, 2, 20, 7, 36, 141846),\n",
       " datetime.datetime(2021, 6, 1, 20, 7, 36, 141846),\n",
       " datetime.datetime(2021, 5, 31, 20, 7, 36, 141846),\n",
       " datetime.datetime(2021, 5, 30, 20, 7, 36, 141846),\n",
       " datetime.datetime(2021, 5, 29, 20, 7, 36, 141846),\n",
       " datetime.datetime(2021, 5, 28, 20, 7, 36, 141846),\n",
       " datetime.datetime(2021, 5, 27, 20, 7, 36, 141846),\n",
       " datetime.datetime(2021, 5, 26, 20, 7, 36, 141846),\n",
       " datetime.datetime(2021, 5, 25, 20, 7, 36, 141846),\n",
       " datetime.datetime(2021, 5, 24, 20, 7, 36, 141846),\n",
       " datetime.datetime(2021, 5, 23, 20, 7, 36, 141846),\n",
       " datetime.datetime(2021, 5, 22, 20, 7, 36, 141846),\n",
       " datetime.datetime(2021, 5, 21, 20, 7, 36, 141846),\n",
       " datetime.datetime(2021, 5, 20, 20, 7, 36, 141846),\n",
       " datetime.datetime(2021, 5, 19, 20, 7, 36, 141846),\n",
       " datetime.datetime(2021, 5, 18, 20, 7, 36, 141846),\n",
       " datetime.datetime(2021, 5, 17, 20, 7, 36, 141846),\n",
       " datetime.datetime(2021, 5, 16, 20, 7, 36, 141846),\n",
       " datetime.datetime(2021, 5, 15, 20, 7, 36, 141846),\n",
       " datetime.datetime(2021, 5, 14, 20, 7, 36, 141846),\n",
       " datetime.datetime(2021, 5, 13, 20, 7, 36, 141846),\n",
       " datetime.datetime(2021, 5, 12, 20, 7, 36, 141846),\n",
       " datetime.datetime(2021, 5, 11, 20, 7, 36, 141846),\n",
       " datetime.datetime(2021, 5, 10, 20, 7, 36, 141846),\n",
       " datetime.datetime(2021, 5, 9, 20, 7, 36, 141846),\n",
       " datetime.datetime(2021, 5, 8, 20, 7, 36, 141846),\n",
       " datetime.datetime(2021, 5, 7, 20, 7, 36, 141846),\n",
       " datetime.datetime(2021, 5, 6, 20, 7, 36, 141846),\n",
       " datetime.datetime(2021, 5, 5, 20, 7, 36, 141846),\n",
       " datetime.datetime(2021, 5, 4, 20, 7, 36, 141846),\n",
       " datetime.datetime(2021, 5, 3, 20, 7, 36, 141846),\n",
       " datetime.datetime(2021, 5, 2, 20, 7, 36, 141846),\n",
       " datetime.datetime(2021, 5, 1, 20, 7, 36, 141846),\n",
       " datetime.datetime(2021, 4, 30, 20, 7, 36, 141846),\n",
       " datetime.datetime(2021, 4, 29, 20, 7, 36, 141846),\n",
       " datetime.datetime(2021, 4, 28, 20, 7, 36, 141846),\n",
       " datetime.datetime(2021, 4, 27, 20, 7, 36, 141846),\n",
       " datetime.datetime(2021, 4, 26, 20, 7, 36, 141846),\n",
       " datetime.datetime(2021, 4, 25, 20, 7, 36, 141846),\n",
       " datetime.datetime(2021, 4, 24, 20, 7, 36, 141846),\n",
       " datetime.datetime(2021, 4, 23, 20, 7, 36, 141846),\n",
       " datetime.datetime(2021, 4, 22, 20, 7, 36, 141846),\n",
       " datetime.datetime(2021, 4, 21, 20, 7, 36, 141846),\n",
       " datetime.datetime(2021, 4, 20, 20, 7, 36, 141846),\n",
       " datetime.datetime(2021, 4, 19, 20, 7, 36, 141846),\n",
       " datetime.datetime(2021, 4, 18, 20, 7, 36, 141846),\n",
       " datetime.datetime(2021, 4, 17, 20, 7, 36, 141846),\n",
       " datetime.datetime(2021, 4, 16, 20, 7, 36, 141846),\n",
       " datetime.datetime(2021, 4, 15, 20, 7, 36, 141846),\n",
       " datetime.datetime(2021, 4, 14, 20, 7, 36, 141846),\n",
       " datetime.datetime(2021, 4, 13, 20, 7, 36, 141846),\n",
       " datetime.datetime(2021, 4, 12, 20, 7, 36, 141846),\n",
       " datetime.datetime(2021, 4, 11, 20, 7, 36, 141846),\n",
       " datetime.datetime(2021, 4, 10, 20, 7, 36, 141846),\n",
       " datetime.datetime(2021, 4, 9, 20, 7, 36, 141846),\n",
       " datetime.datetime(2021, 4, 8, 20, 7, 36, 141846),\n",
       " datetime.datetime(2021, 4, 7, 20, 7, 36, 141846),\n",
       " datetime.datetime(2021, 4, 6, 20, 7, 36, 141846),\n",
       " datetime.datetime(2021, 4, 5, 20, 7, 36, 141846),\n",
       " datetime.datetime(2021, 4, 4, 20, 7, 36, 141846),\n",
       " datetime.datetime(2021, 4, 3, 20, 7, 36, 141846),\n",
       " datetime.datetime(2021, 4, 2, 20, 7, 36, 141846),\n",
       " datetime.datetime(2021, 4, 1, 20, 7, 36, 141846),\n",
       " datetime.datetime(2021, 3, 31, 20, 7, 36, 141846),\n",
       " datetime.datetime(2021, 3, 30, 20, 7, 36, 141846),\n",
       " datetime.datetime(2021, 3, 29, 20, 7, 36, 141846),\n",
       " datetime.datetime(2021, 3, 28, 20, 7, 36, 141846),\n",
       " datetime.datetime(2021, 3, 27, 20, 7, 36, 141846),\n",
       " datetime.datetime(2021, 3, 26, 20, 7, 36, 141846),\n",
       " datetime.datetime(2021, 3, 25, 20, 7, 36, 141846),\n",
       " datetime.datetime(2021, 3, 24, 20, 7, 36, 141846),\n",
       " datetime.datetime(2021, 3, 23, 20, 7, 36, 141846),\n",
       " datetime.datetime(2021, 3, 22, 20, 7, 36, 141846),\n",
       " datetime.datetime(2021, 3, 21, 20, 7, 36, 141846),\n",
       " datetime.datetime(2021, 3, 20, 20, 7, 36, 141846),\n",
       " datetime.datetime(2021, 3, 19, 20, 7, 36, 141846),\n",
       " datetime.datetime(2021, 3, 18, 20, 7, 36, 141846),\n",
       " datetime.datetime(2021, 3, 17, 20, 7, 36, 141846),\n",
       " datetime.datetime(2021, 3, 16, 20, 7, 36, 141846),\n",
       " datetime.datetime(2021, 3, 15, 20, 7, 36, 141846),\n",
       " datetime.datetime(2021, 3, 14, 20, 7, 36, 141846),\n",
       " datetime.datetime(2021, 3, 13, 20, 7, 36, 141846),\n",
       " datetime.datetime(2021, 3, 12, 20, 7, 36, 141846),\n",
       " datetime.datetime(2021, 3, 11, 20, 7, 36, 141846),\n",
       " datetime.datetime(2021, 3, 10, 20, 7, 36, 141846),\n",
       " datetime.datetime(2021, 3, 9, 20, 7, 36, 141846),\n",
       " datetime.datetime(2021, 3, 8, 20, 7, 36, 141846),\n",
       " datetime.datetime(2021, 3, 7, 20, 7, 36, 141846),\n",
       " datetime.datetime(2021, 3, 6, 20, 7, 36, 141846),\n",
       " datetime.datetime(2021, 3, 5, 20, 7, 36, 141846),\n",
       " datetime.datetime(2021, 3, 4, 20, 7, 36, 141846),\n",
       " datetime.datetime(2021, 3, 3, 20, 7, 36, 141846),\n",
       " datetime.datetime(2021, 3, 2, 20, 7, 36, 141846),\n",
       " datetime.datetime(2021, 3, 1, 20, 7, 36, 141846),\n",
       " datetime.datetime(2021, 2, 28, 20, 7, 36, 141846),\n",
       " datetime.datetime(2021, 2, 27, 20, 7, 36, 141846),\n",
       " datetime.datetime(2021, 2, 26, 20, 7, 36, 141846),\n",
       " datetime.datetime(2021, 2, 25, 20, 7, 36, 141846),\n",
       " datetime.datetime(2021, 2, 24, 20, 7, 36, 141846),\n",
       " datetime.datetime(2021, 2, 23, 20, 7, 36, 141846),\n",
       " datetime.datetime(2021, 2, 22, 20, 7, 36, 141846),\n",
       " datetime.datetime(2021, 2, 21, 20, 7, 36, 141846),\n",
       " datetime.datetime(2021, 2, 20, 20, 7, 36, 141846),\n",
       " datetime.datetime(2021, 2, 19, 20, 7, 36, 141846),\n",
       " datetime.datetime(2021, 2, 18, 20, 7, 36, 141846),\n",
       " datetime.datetime(2021, 2, 17, 20, 7, 36, 141846),\n",
       " datetime.datetime(2021, 2, 16, 20, 7, 36, 141846),\n",
       " datetime.datetime(2021, 2, 15, 20, 7, 36, 141846),\n",
       " datetime.datetime(2021, 2, 14, 20, 7, 36, 141846),\n",
       " datetime.datetime(2021, 2, 13, 20, 7, 36, 141846),\n",
       " datetime.datetime(2021, 2, 12, 20, 7, 36, 141846),\n",
       " datetime.datetime(2021, 2, 11, 20, 7, 36, 141846),\n",
       " datetime.datetime(2021, 2, 10, 20, 7, 36, 141846),\n",
       " datetime.datetime(2021, 2, 9, 20, 7, 36, 141846),\n",
       " datetime.datetime(2021, 2, 8, 20, 7, 36, 141846),\n",
       " datetime.datetime(2021, 2, 7, 20, 7, 36, 141846),\n",
       " datetime.datetime(2021, 2, 6, 20, 7, 36, 141846),\n",
       " datetime.datetime(2021, 2, 5, 20, 7, 36, 141846),\n",
       " datetime.datetime(2021, 2, 4, 20, 7, 36, 141846),\n",
       " datetime.datetime(2021, 2, 3, 20, 7, 36, 141846),\n",
       " datetime.datetime(2021, 2, 2, 20, 7, 36, 141846),\n",
       " datetime.datetime(2021, 2, 1, 20, 7, 36, 141846),\n",
       " datetime.datetime(2021, 1, 31, 20, 7, 36, 141846),\n",
       " datetime.datetime(2021, 1, 30, 20, 7, 36, 141846),\n",
       " datetime.datetime(2021, 1, 29, 20, 7, 36, 141846),\n",
       " datetime.datetime(2021, 1, 28, 20, 7, 36, 141846),\n",
       " datetime.datetime(2021, 1, 27, 20, 7, 36, 141846),\n",
       " datetime.datetime(2021, 1, 26, 20, 7, 36, 141846),\n",
       " datetime.datetime(2021, 1, 25, 20, 7, 36, 141846),\n",
       " datetime.datetime(2021, 1, 24, 20, 7, 36, 141846),\n",
       " datetime.datetime(2021, 1, 23, 20, 7, 36, 141846),\n",
       " datetime.datetime(2021, 1, 22, 20, 7, 36, 141846),\n",
       " datetime.datetime(2021, 1, 21, 20, 7, 36, 141846),\n",
       " datetime.datetime(2021, 1, 20, 20, 7, 36, 141846),\n",
       " datetime.datetime(2021, 1, 19, 20, 7, 36, 141846),\n",
       " datetime.datetime(2021, 1, 18, 20, 7, 36, 141846),\n",
       " datetime.datetime(2021, 1, 17, 20, 7, 36, 141846),\n",
       " datetime.datetime(2021, 1, 16, 20, 7, 36, 141846),\n",
       " datetime.datetime(2021, 1, 15, 20, 7, 36, 141846),\n",
       " datetime.datetime(2021, 1, 14, 20, 7, 36, 141846),\n",
       " datetime.datetime(2021, 1, 13, 20, 7, 36, 141846),\n",
       " datetime.datetime(2021, 1, 12, 20, 7, 36, 141846),\n",
       " datetime.datetime(2021, 1, 11, 20, 7, 36, 141846),\n",
       " datetime.datetime(2021, 1, 10, 20, 7, 36, 141846),\n",
       " datetime.datetime(2021, 1, 9, 20, 7, 36, 141846),\n",
       " datetime.datetime(2021, 1, 8, 20, 7, 36, 141846),\n",
       " datetime.datetime(2021, 1, 7, 20, 7, 36, 141846),\n",
       " datetime.datetime(2021, 1, 6, 20, 7, 36, 141846),\n",
       " datetime.datetime(2021, 1, 5, 20, 7, 36, 141846),\n",
       " datetime.datetime(2021, 1, 4, 20, 7, 36, 141846),\n",
       " datetime.datetime(2021, 1, 3, 20, 7, 36, 141846),\n",
       " datetime.datetime(2021, 1, 2, 20, 7, 36, 141846),\n",
       " datetime.datetime(2021, 1, 1, 20, 7, 36, 141846),\n",
       " datetime.datetime(2020, 12, 31, 20, 7, 36, 141846),\n",
       " datetime.datetime(2020, 12, 30, 20, 7, 36, 141846),\n",
       " datetime.datetime(2020, 12, 29, 20, 7, 36, 141846),\n",
       " datetime.datetime(2020, 12, 28, 20, 7, 36, 141846),\n",
       " datetime.datetime(2020, 12, 27, 20, 7, 36, 141846),\n",
       " datetime.datetime(2020, 12, 26, 20, 7, 36, 141846),\n",
       " datetime.datetime(2020, 12, 25, 20, 7, 36, 141846),\n",
       " datetime.datetime(2020, 12, 24, 20, 7, 36, 141846),\n",
       " datetime.datetime(2020, 12, 23, 20, 7, 36, 141846),\n",
       " datetime.datetime(2020, 12, 22, 20, 7, 36, 141846),\n",
       " datetime.datetime(2020, 12, 21, 20, 7, 36, 141846),\n",
       " datetime.datetime(2020, 12, 20, 20, 7, 36, 141846),\n",
       " datetime.datetime(2020, 12, 19, 20, 7, 36, 141846),\n",
       " datetime.datetime(2020, 12, 18, 20, 7, 36, 141846),\n",
       " datetime.datetime(2020, 12, 17, 20, 7, 36, 141846),\n",
       " datetime.datetime(2020, 12, 16, 20, 7, 36, 141846),\n",
       " datetime.datetime(2020, 12, 15, 20, 7, 36, 141846),\n",
       " datetime.datetime(2020, 12, 14, 20, 7, 36, 141846),\n",
       " datetime.datetime(2020, 12, 13, 20, 7, 36, 141846),\n",
       " datetime.datetime(2020, 12, 12, 20, 7, 36, 141846),\n",
       " datetime.datetime(2020, 12, 11, 20, 7, 36, 141846),\n",
       " datetime.datetime(2020, 12, 10, 20, 7, 36, 141846),\n",
       " datetime.datetime(2020, 12, 9, 20, 7, 36, 141846),\n",
       " datetime.datetime(2020, 12, 8, 20, 7, 36, 141846),\n",
       " datetime.datetime(2020, 12, 7, 20, 7, 36, 141846),\n",
       " datetime.datetime(2020, 12, 6, 20, 7, 36, 141846),\n",
       " datetime.datetime(2020, 12, 5, 20, 7, 36, 141846),\n",
       " datetime.datetime(2020, 12, 4, 20, 7, 36, 141846),\n",
       " datetime.datetime(2020, 12, 3, 20, 7, 36, 141846),\n",
       " datetime.datetime(2020, 12, 2, 20, 7, 36, 141846),\n",
       " datetime.datetime(2020, 12, 1, 20, 7, 36, 141846),\n",
       " datetime.datetime(2020, 11, 30, 20, 7, 36, 141846),\n",
       " datetime.datetime(2020, 11, 29, 20, 7, 36, 141846),\n",
       " datetime.datetime(2020, 11, 28, 20, 7, 36, 141846),\n",
       " datetime.datetime(2020, 11, 27, 20, 7, 36, 141846),\n",
       " datetime.datetime(2020, 11, 26, 20, 7, 36, 141846),\n",
       " datetime.datetime(2020, 11, 25, 20, 7, 36, 141846),\n",
       " datetime.datetime(2020, 11, 24, 20, 7, 36, 141846),\n",
       " datetime.datetime(2020, 11, 23, 20, 7, 36, 141846),\n",
       " datetime.datetime(2020, 11, 22, 20, 7, 36, 141846),\n",
       " datetime.datetime(2020, 11, 21, 20, 7, 36, 141846),\n",
       " datetime.datetime(2020, 11, 20, 20, 7, 36, 141846),\n",
       " datetime.datetime(2020, 11, 19, 20, 7, 36, 141846),\n",
       " datetime.datetime(2020, 11, 18, 20, 7, 36, 141846),\n",
       " datetime.datetime(2020, 11, 17, 20, 7, 36, 141846),\n",
       " datetime.datetime(2020, 11, 16, 20, 7, 36, 141846),\n",
       " datetime.datetime(2020, 11, 15, 20, 7, 36, 141846),\n",
       " datetime.datetime(2020, 11, 14, 20, 7, 36, 141846),\n",
       " datetime.datetime(2020, 11, 13, 20, 7, 36, 141846),\n",
       " datetime.datetime(2020, 11, 12, 20, 7, 36, 141846),\n",
       " datetime.datetime(2020, 11, 11, 20, 7, 36, 141846),\n",
       " datetime.datetime(2020, 11, 10, 20, 7, 36, 141846),\n",
       " datetime.datetime(2020, 11, 9, 20, 7, 36, 141846),\n",
       " datetime.datetime(2020, 11, 8, 20, 7, 36, 141846),\n",
       " datetime.datetime(2020, 11, 7, 20, 7, 36, 141846),\n",
       " datetime.datetime(2020, 11, 6, 20, 7, 36, 141846),\n",
       " datetime.datetime(2020, 11, 5, 20, 7, 36, 141846),\n",
       " datetime.datetime(2020, 11, 4, 20, 7, 36, 141846),\n",
       " datetime.datetime(2020, 11, 3, 20, 7, 36, 141846),\n",
       " datetime.datetime(2020, 11, 2, 20, 7, 36, 141846),\n",
       " datetime.datetime(2020, 11, 1, 20, 7, 36, 141846),\n",
       " datetime.datetime(2020, 10, 31, 20, 7, 36, 141846),\n",
       " datetime.datetime(2020, 10, 30, 20, 7, 36, 141846),\n",
       " datetime.datetime(2020, 10, 29, 20, 7, 36, 141846),\n",
       " datetime.datetime(2020, 10, 28, 20, 7, 36, 141846),\n",
       " datetime.datetime(2020, 10, 27, 20, 7, 36, 141846),\n",
       " datetime.datetime(2020, 10, 26, 20, 7, 36, 141846),\n",
       " datetime.datetime(2020, 10, 25, 20, 7, 36, 141846),\n",
       " datetime.datetime(2020, 10, 24, 20, 7, 36, 141846),\n",
       " datetime.datetime(2020, 10, 23, 20, 7, 36, 141846),\n",
       " datetime.datetime(2020, 10, 22, 20, 7, 36, 141846),\n",
       " datetime.datetime(2020, 10, 21, 20, 7, 36, 141846),\n",
       " datetime.datetime(2020, 10, 20, 20, 7, 36, 141846),\n",
       " datetime.datetime(2020, 10, 19, 20, 7, 36, 141846),\n",
       " datetime.datetime(2020, 10, 18, 20, 7, 36, 141846),\n",
       " datetime.datetime(2020, 10, 17, 20, 7, 36, 141846),\n",
       " datetime.datetime(2020, 10, 16, 20, 7, 36, 141846),\n",
       " datetime.datetime(2020, 10, 15, 20, 7, 36, 141846),\n",
       " datetime.datetime(2020, 10, 14, 20, 7, 36, 141846),\n",
       " datetime.datetime(2020, 10, 13, 20, 7, 36, 141846),\n",
       " datetime.datetime(2020, 10, 12, 20, 7, 36, 141846),\n",
       " datetime.datetime(2020, 10, 11, 20, 7, 36, 141846),\n",
       " datetime.datetime(2020, 10, 10, 20, 7, 36, 141846),\n",
       " datetime.datetime(2020, 10, 9, 20, 7, 36, 141846),\n",
       " datetime.datetime(2020, 10, 8, 20, 7, 36, 141846),\n",
       " datetime.datetime(2020, 10, 7, 20, 7, 36, 141846),\n",
       " datetime.datetime(2020, 10, 6, 20, 7, 36, 141846),\n",
       " datetime.datetime(2020, 10, 5, 20, 7, 36, 141846),\n",
       " datetime.datetime(2020, 10, 4, 20, 7, 36, 141846),\n",
       " datetime.datetime(2020, 10, 3, 20, 7, 36, 141846),\n",
       " datetime.datetime(2020, 10, 2, 20, 7, 36, 141846),\n",
       " datetime.datetime(2020, 10, 1, 20, 7, 36, 141846),\n",
       " datetime.datetime(2020, 9, 30, 20, 7, 36, 141846),\n",
       " datetime.datetime(2020, 9, 29, 20, 7, 36, 141846),\n",
       " datetime.datetime(2020, 9, 28, 20, 7, 36, 141846),\n",
       " datetime.datetime(2020, 9, 27, 20, 7, 36, 141846),\n",
       " datetime.datetime(2020, 9, 26, 20, 7, 36, 141846),\n",
       " datetime.datetime(2020, 9, 25, 20, 7, 36, 141846),\n",
       " datetime.datetime(2020, 9, 24, 20, 7, 36, 141846),\n",
       " datetime.datetime(2020, 9, 23, 20, 7, 36, 141846),\n",
       " datetime.datetime(2020, 9, 22, 20, 7, 36, 141846),\n",
       " datetime.datetime(2020, 9, 21, 20, 7, 36, 141846),\n",
       " datetime.datetime(2020, 9, 20, 20, 7, 36, 141846),\n",
       " datetime.datetime(2020, 9, 19, 20, 7, 36, 141846),\n",
       " datetime.datetime(2020, 9, 18, 20, 7, 36, 141846),\n",
       " datetime.datetime(2020, 9, 17, 20, 7, 36, 141846),\n",
       " datetime.datetime(2020, 9, 16, 20, 7, 36, 141846),\n",
       " datetime.datetime(2020, 9, 15, 20, 7, 36, 141846),\n",
       " datetime.datetime(2020, 9, 14, 20, 7, 36, 141846),\n",
       " datetime.datetime(2020, 9, 13, 20, 7, 36, 141846),\n",
       " datetime.datetime(2020, 9, 12, 20, 7, 36, 141846),\n",
       " datetime.datetime(2020, 9, 11, 20, 7, 36, 141846),\n",
       " datetime.datetime(2020, 9, 10, 20, 7, 36, 141846),\n",
       " datetime.datetime(2020, 9, 9, 20, 7, 36, 141846),\n",
       " datetime.datetime(2020, 9, 8, 20, 7, 36, 141846),\n",
       " datetime.datetime(2020, 9, 7, 20, 7, 36, 141846),\n",
       " datetime.datetime(2020, 9, 6, 20, 7, 36, 141846),\n",
       " datetime.datetime(2020, 9, 5, 20, 7, 36, 141846),\n",
       " datetime.datetime(2020, 9, 4, 20, 7, 36, 141846),\n",
       " datetime.datetime(2020, 9, 3, 20, 7, 36, 141846),\n",
       " datetime.datetime(2020, 9, 2, 20, 7, 36, 141846),\n",
       " datetime.datetime(2020, 9, 1, 20, 7, 36, 141846),\n",
       " datetime.datetime(2020, 8, 31, 20, 7, 36, 141846),\n",
       " datetime.datetime(2020, 8, 30, 20, 7, 36, 141846),\n",
       " datetime.datetime(2020, 8, 29, 20, 7, 36, 141846),\n",
       " datetime.datetime(2020, 8, 28, 20, 7, 36, 141846),\n",
       " datetime.datetime(2020, 8, 27, 20, 7, 36, 141846),\n",
       " datetime.datetime(2020, 8, 26, 20, 7, 36, 141846),\n",
       " datetime.datetime(2020, 8, 25, 20, 7, 36, 141846),\n",
       " datetime.datetime(2020, 8, 24, 20, 7, 36, 141846),\n",
       " datetime.datetime(2020, 8, 23, 20, 7, 36, 141846),\n",
       " datetime.datetime(2020, 8, 22, 20, 7, 36, 141846),\n",
       " datetime.datetime(2020, 8, 21, 20, 7, 36, 141846),\n",
       " datetime.datetime(2020, 8, 20, 20, 7, 36, 141846),\n",
       " datetime.datetime(2020, 8, 19, 20, 7, 36, 141846),\n",
       " datetime.datetime(2020, 8, 18, 20, 7, 36, 141846),\n",
       " datetime.datetime(2020, 8, 17, 20, 7, 36, 141846),\n",
       " datetime.datetime(2020, 8, 16, 20, 7, 36, 141846),\n",
       " datetime.datetime(2020, 8, 15, 20, 7, 36, 141846),\n",
       " datetime.datetime(2020, 8, 14, 20, 7, 36, 141846),\n",
       " datetime.datetime(2020, 8, 13, 20, 7, 36, 141846),\n",
       " datetime.datetime(2020, 8, 12, 20, 7, 36, 141846),\n",
       " datetime.datetime(2020, 8, 11, 20, 7, 36, 141846),\n",
       " datetime.datetime(2020, 8, 10, 20, 7, 36, 141846),\n",
       " datetime.datetime(2020, 8, 9, 20, 7, 36, 141846),\n",
       " datetime.datetime(2020, 8, 8, 20, 7, 36, 141846),\n",
       " datetime.datetime(2020, 8, 7, 20, 7, 36, 141846),\n",
       " datetime.datetime(2020, 8, 6, 20, 7, 36, 141846),\n",
       " datetime.datetime(2020, 8, 5, 20, 7, 36, 141846),\n",
       " datetime.datetime(2020, 8, 4, 20, 7, 36, 141846),\n",
       " datetime.datetime(2020, 8, 3, 20, 7, 36, 141846),\n",
       " datetime.datetime(2020, 8, 2, 20, 7, 36, 141846),\n",
       " datetime.datetime(2020, 8, 1, 20, 7, 36, 141846),\n",
       " datetime.datetime(2020, 7, 31, 20, 7, 36, 141846),\n",
       " datetime.datetime(2020, 7, 30, 20, 7, 36, 141846),\n",
       " datetime.datetime(2020, 7, 29, 20, 7, 36, 141846),\n",
       " datetime.datetime(2020, 7, 28, 20, 7, 36, 141846),\n",
       " datetime.datetime(2020, 7, 27, 20, 7, 36, 141846)]"
      ]
     },
     "execution_count": 88,
     "metadata": {},
     "output_type": "execute_result"
    }
   ],
   "source": [
    "date_list"
   ]
  },
  {
   "cell_type": "code",
   "execution_count": 89,
   "id": "5b7bb098",
   "metadata": {},
   "outputs": [],
   "source": [
    "freq = Series(\n",
    "    [randint(1, 10_000) for _ in range(base_times)], \n",
    "    index=date_list\n",
    ")"
   ]
  },
  {
   "cell_type": "code",
   "execution_count": 90,
   "id": "94ca66b8",
   "metadata": {},
   "outputs": [
    {
     "data": {
      "text/plain": [
       "2023-01-12 20:07:36.141846    9051\n",
       "2023-01-11 20:07:36.141846    5830\n",
       "2023-01-10 20:07:36.141846    3201\n",
       "2023-01-09 20:07:36.141846    4481\n",
       "2023-01-08 20:07:36.141846    5726\n",
       "2023-01-07 20:07:36.141846    9276\n",
       "2023-01-06 20:07:36.141846     212\n",
       "2023-01-05 20:07:36.141846    9993\n",
       "2023-01-04 20:07:36.141846    9591\n",
       "2023-01-03 20:07:36.141846    8486\n",
       "2023-01-02 20:07:36.141846    3074\n",
       "2023-01-01 20:07:36.141846     926\n",
       "2022-12-31 20:07:36.141846     281\n",
       "2022-12-30 20:07:36.141846    8666\n",
       "2022-12-29 20:07:36.141846    8508\n",
       "2022-12-28 20:07:36.141846    9897\n",
       "2022-12-27 20:07:36.141846    7645\n",
       "2022-12-26 20:07:36.141846    7870\n",
       "2022-12-25 20:07:36.141846    3333\n",
       "2022-12-24 20:07:36.141846    6093\n",
       "2022-12-23 20:07:36.141846    3319\n",
       "2022-12-22 20:07:36.141846    3666\n",
       "2022-12-21 20:07:36.141846    7563\n",
       "2022-12-20 20:07:36.141846     275\n",
       "2022-12-19 20:07:36.141846    9734\n",
       "2022-12-18 20:07:36.141846    5209\n",
       "2022-12-17 20:07:36.141846    6098\n",
       "2022-12-16 20:07:36.141846    4675\n",
       "2022-12-15 20:07:36.141846    1174\n",
       "2022-12-14 20:07:36.141846    8841\n",
       "dtype: int64"
      ]
     },
     "execution_count": 90,
     "metadata": {},
     "output_type": "execute_result"
    }
   ],
   "source": [
    "freq.iloc[0: 30]"
   ]
  },
  {
   "cell_type": "code",
   "execution_count": 91,
   "id": "a2ebdb29",
   "metadata": {},
   "outputs": [],
   "source": [
    "from pandas import Grouper\n",
    "\n",
    "g = Grouper(freq='1Y')"
   ]
  },
  {
   "cell_type": "code",
   "execution_count": 70,
   "id": "e7209244",
   "metadata": {},
   "outputs": [
    {
     "data": {
      "text/plain": [
       "<pandas.core.groupby.generic.SeriesGroupBy object at 0x7f88c0d81570>"
      ]
     },
     "execution_count": 70,
     "metadata": {},
     "output_type": "execute_result"
    }
   ],
   "source": [
    "freq.groupby(g)"
   ]
  },
  {
   "cell_type": "code",
   "execution_count": 72,
   "id": "9b3ebbb1",
   "metadata": {},
   "outputs": [
    {
     "data": {
      "text/plain": [
       "2020-07-31     5\n",
       "2020-08-31    31\n",
       "2020-09-30    30\n",
       "2020-10-31    31\n",
       "2020-11-30    30\n",
       "2020-12-31    31\n",
       "2021-01-31    31\n",
       "2021-02-28    28\n",
       "2021-03-31    31\n",
       "2021-04-30    30\n",
       "2021-05-31    31\n",
       "2021-06-30    30\n",
       "2021-07-31    31\n",
       "2021-08-31    31\n",
       "2021-09-30    30\n",
       "2021-10-31    31\n",
       "2021-11-30    30\n",
       "2021-12-31    31\n",
       "2022-01-31    31\n",
       "2022-02-28    28\n",
       "2022-03-31    31\n",
       "2022-04-30    30\n",
       "2022-05-31    31\n",
       "2022-06-30    30\n",
       "2022-07-31    31\n",
       "2022-08-31    31\n",
       "2022-09-30    30\n",
       "2022-10-31    31\n",
       "2022-11-30    30\n",
       "2022-12-31    31\n",
       "2023-01-31    12\n",
       "Freq: M, dtype: int64"
      ]
     },
     "execution_count": 72,
     "metadata": {},
     "output_type": "execute_result"
    }
   ],
   "source": [
    "freq.groupby(g).count()"
   ]
  },
  {
   "cell_type": "code",
   "execution_count": 75,
   "id": "7ebd7d38",
   "metadata": {},
   "outputs": [
    {
     "data": {
      "text/plain": [
       "2020-07-31    AxesSubplot(0.125,0.2;0.775x0.68)\n",
       "2020-08-31    AxesSubplot(0.125,0.2;0.775x0.68)\n",
       "2020-09-30    AxesSubplot(0.125,0.2;0.775x0.68)\n",
       "2020-10-31    AxesSubplot(0.125,0.2;0.775x0.68)\n",
       "2020-11-30    AxesSubplot(0.125,0.2;0.775x0.68)\n",
       "2020-12-31    AxesSubplot(0.125,0.2;0.775x0.68)\n",
       "2021-01-31    AxesSubplot(0.125,0.2;0.775x0.68)\n",
       "2021-02-28    AxesSubplot(0.125,0.2;0.775x0.68)\n",
       "2021-03-31    AxesSubplot(0.125,0.2;0.775x0.68)\n",
       "2021-04-30    AxesSubplot(0.125,0.2;0.775x0.68)\n",
       "2021-05-31    AxesSubplot(0.125,0.2;0.775x0.68)\n",
       "2021-06-30    AxesSubplot(0.125,0.2;0.775x0.68)\n",
       "2021-07-31    AxesSubplot(0.125,0.2;0.775x0.68)\n",
       "2021-08-31    AxesSubplot(0.125,0.2;0.775x0.68)\n",
       "2021-09-30    AxesSubplot(0.125,0.2;0.775x0.68)\n",
       "2021-10-31    AxesSubplot(0.125,0.2;0.775x0.68)\n",
       "2021-11-30    AxesSubplot(0.125,0.2;0.775x0.68)\n",
       "2021-12-31    AxesSubplot(0.125,0.2;0.775x0.68)\n",
       "2022-01-31    AxesSubplot(0.125,0.2;0.775x0.68)\n",
       "2022-02-28    AxesSubplot(0.125,0.2;0.775x0.68)\n",
       "2022-03-31    AxesSubplot(0.125,0.2;0.775x0.68)\n",
       "2022-04-30    AxesSubplot(0.125,0.2;0.775x0.68)\n",
       "2022-05-31    AxesSubplot(0.125,0.2;0.775x0.68)\n",
       "2022-06-30    AxesSubplot(0.125,0.2;0.775x0.68)\n",
       "2022-07-31    AxesSubplot(0.125,0.2;0.775x0.68)\n",
       "2022-08-31    AxesSubplot(0.125,0.2;0.775x0.68)\n",
       "2022-09-30    AxesSubplot(0.125,0.2;0.775x0.68)\n",
       "2022-10-31    AxesSubplot(0.125,0.2;0.775x0.68)\n",
       "2022-11-30    AxesSubplot(0.125,0.2;0.775x0.68)\n",
       "2022-12-31    AxesSubplot(0.125,0.2;0.775x0.68)\n",
       "2023-01-31    AxesSubplot(0.125,0.2;0.775x0.68)\n",
       "Freq: M, dtype: object"
      ]
     },
     "execution_count": 75,
     "metadata": {},
     "output_type": "execute_result"
    },
    {
     "data": {
      "image/png": "[encoded data removed]",
      "text/plain": [
       "<Figure size 640x480 with 1 Axes>"
      ]
     },
     "metadata": {},
     "output_type": "display_data"
    }
   ],
   "source": [
    "freq.groupby(g).plot()"
   ]
  },
  {
   "cell_type": "code",
   "execution_count": 78,
   "id": "c71b1b68",
   "metadata": {},
   "outputs": [
    {
     "data": {
      "text/plain": [
       "<AxesSubplot: >"
      ]
     },
     "execution_count": 78,
     "metadata": {},
     "output_type": "execute_result"
    },
    {
     "data": {
      "image/png": "[encoded data removed]",
      "text/plain": [
       "<Figure size 640x480 with 1 Axes>"
      ]
     },
     "metadata": {},
     "output_type": "display_data"
    }
   ],
   "source": [
    "freq.groupby(g).count().plot(kind='bar')"
   ]
  },
  {
   "cell_type": "code",
   "execution_count": 94,
   "id": "63ea2785",
   "metadata": {},
   "outputs": [
    {
     "data": {
      "text/plain": [
       "2020-12-31     775160\n",
       "2021-12-31    1910310\n",
       "2022-12-31    1799041\n",
       "2023-12-31      69847\n",
       "Freq: A-DEC, dtype: int64"
      ]
     },
     "execution_count": 94,
     "metadata": {},
     "output_type": "execute_result"
    }
   ],
   "source": [
    "freq.groupby(g).sum()"
   ]
  },
  {
   "cell_type": "code",
   "execution_count": 96,
   "id": "7aa0154b",
   "metadata": {},
   "outputs": [
    {
     "data": {
      "text/plain": [
       "2023-01-12 20:07:36.141846    9051\n",
       "2023-01-11 20:07:36.141846    5830\n",
       "2023-01-10 20:07:36.141846    3201\n",
       "2023-01-09 20:07:36.141846    4481\n",
       "2023-01-08 20:07:36.141846    5726\n",
       "2023-01-07 20:07:36.141846    9276\n",
       "2023-01-06 20:07:36.141846     212\n",
       "2023-01-05 20:07:36.141846    9993\n",
       "2023-01-04 20:07:36.141846    9591\n",
       "2023-01-03 20:07:36.141846    8486\n",
       "2023-01-02 20:07:36.141846    3074\n",
       "2023-01-01 20:07:36.141846     926\n",
       "2022-12-31 20:07:36.141846     281\n",
       "2022-12-30 20:07:36.141846    8666\n",
       "2022-12-29 20:07:36.141846    8508\n",
       "2022-12-28 20:07:36.141846    9897\n",
       "2022-12-27 20:07:36.141846    7645\n",
       "2022-12-26 20:07:36.141846    7870\n",
       "2022-12-25 20:07:36.141846    3333\n",
       "2022-12-24 20:07:36.141846    6093\n",
       "2022-12-23 20:07:36.141846    3319\n",
       "2022-12-22 20:07:36.141846    3666\n",
       "2022-12-21 20:07:36.141846    7563\n",
       "2022-12-20 20:07:36.141846     275\n",
       "2022-12-19 20:07:36.141846    9734\n",
       "2022-12-18 20:07:36.141846    5209\n",
       "2022-12-17 20:07:36.141846    6098\n",
       "2022-12-16 20:07:36.141846    4675\n",
       "2022-12-15 20:07:36.141846    1174\n",
       "2022-12-14 20:07:36.141846    8841\n",
       "dtype: int64"
      ]
     },
     "execution_count": 96,
     "metadata": {},
     "output_type": "execute_result"
    }
   ],
   "source": [
    "freq.iloc[0: 30]"
   ]
  },
  {
   "cell_type": "code",
   "execution_count": 92,
   "id": "de942d7b",
   "metadata": {},
   "outputs": [
    {
     "data": {
      "text/plain": [
       "<AxesSubplot: >"
      ]
     },
     "execution_count": 92,
     "metadata": {},
     "output_type": "execute_result"
    },
    {
     "data": {
      "image/png": "[encoded data removed]",
      "text/plain": [
       "<Figure size 640x480 with 1 Axes>"
      ]
     },
     "metadata": {},
     "output_type": "display_data"
    }
   ],
   "source": [
    "freq.groupby(g).sum().plot(kind=\"barh\")"
   ]
  },
  {
   "cell_type": "code",
   "execution_count": 99,
   "id": "68c3e819",
   "metadata": {},
   "outputs": [
    {
     "data": {
      "text/plain": [
       "<AxesSubplot: >"
      ]
     },
     "execution_count": 99,
     "metadata": {},
     "output_type": "execute_result"
    },
    {
     "data": {
      "image/png": "[encoded data removed]",
      "text/plain": [
       "<Figure size 640x480 with 1 Axes>"
      ]
     },
     "metadata": {},
     "output_type": "display_data"
    }
   ],
   "source": [
    "freq.iloc[0: 30].groupby(Grouper(freq='1W')).sum().plot(kind='bar')"
   ]
  },
  {
   "cell_type": "code",
   "execution_count": 100,
   "id": "3f3d6864",
   "metadata": {},
   "outputs": [],
   "source": [
    "from seaborn import set\n",
    "set()"
   ]
  },
  {
   "cell_type": "code",
   "execution_count": 101,
   "id": "32512982",
   "metadata": {},
   "outputs": [
    {
     "data": {
      "text/plain": [
       "<AxesSubplot: >"
      ]
     },
     "execution_count": 101,
     "metadata": {},
     "output_type": "execute_result"
    },
    {
     "data": {
      "image/png": "[encoded data removed]",
      "text/plain": [
       "<Figure size 640x480 with 1 Axes>"
      ]
     },
     "metadata": {},
     "output_type": "display_data"
    }
   ],
   "source": [
    "freq.iloc[0: 30].groupby(Grouper(freq='1W')).sum().plot(kind='bar')"
   ]
  },
  {
   "cell_type": "code",
   "execution_count": 102,
   "id": "bb5bd462",
   "metadata": {},
   "outputs": [
    {
     "data": {
      "text/plain": [
       "<AxesSubplot: >"
      ]
     },
     "execution_count": 102,
     "metadata": {},
     "output_type": "execute_result"
    },
    {
     "data": {
      "image/png": "[encoded data removed]",
      "text/plain": [
       "<Figure size 640x480 with 1 Axes>"
      ]
     },
     "metadata": {},
     "output_type": "display_data"
    }
   ],
   "source": [
    "freq.iloc[0: 30].groupby(Grouper(freq='1W')).sum().plot(kind='box')"
   ]
  },
  {
   "cell_type": "code",
   "execution_count": 107,
   "id": "782531b6",
   "metadata": {},
   "outputs": [
    {
     "data": {
      "text/plain": [
       "A    9051\n",
       "B    5830\n",
       "C    3201\n",
       "dtype: int64"
      ]
     },
     "execution_count": 107,
     "metadata": {},
     "output_type": "execute_result"
    }
   ],
   "source": [
    "d30 = freq.iloc[0: 3]\n",
    "\n",
    "d30.index = ['A', 'B', 'C']\n",
    "\n",
    "d30"
   ]
  },
  {
   "cell_type": "markdown",
   "id": "343fcc0a",
   "metadata": {},
   "source": [
    "# Problema 3\n",
    "\n",
    "* apply\n",
    "* map"
   ]
  },
  {
   "cell_type": "code",
   "execution_count": 114,
   "id": "e8d0a9ef",
   "metadata": {},
   "outputs": [
    {
     "data": {
      "text/plain": [
       "A    True\n",
       "B    True\n",
       "C    True\n",
       "D    True\n",
       "E    True\n",
       "F    True\n",
       "G    True\n",
       "H    True\n",
       "I    True\n",
       "J    True\n",
       "K    True\n",
       "L    True\n",
       "M    True\n",
       "N    True\n",
       "O    True\n",
       "P    True\n",
       "Q    True\n",
       "R    True\n",
       "S    True\n",
       "T    True\n",
       "U    True\n",
       "V    True\n",
       "W    True\n",
       "X    True\n",
       "Y    True\n",
       "Z    True\n",
       "dtype: bool"
      ]
     },
     "execution_count": 114,
     "metadata": {},
     "output_type": "execute_result"
    }
   ],
   "source": [
    "s.apply(bool)"
   ]
  },
  {
   "cell_type": "code",
   "execution_count": 117,
   "id": "6d1245d7",
   "metadata": {},
   "outputs": [
    {
     "data": {
      "text/plain": [
       "A       NaN\n",
       "B       NaN\n",
       "C       NaN\n",
       "D       NaN\n",
       "E       NaN\n",
       "F       NaN\n",
       "G       NaN\n",
       "H       NaN\n",
       "I       NaN\n",
       "J       NaN\n",
       "K       NaN\n",
       "L       NaN\n",
       "M       NaN\n",
       "N       NaN\n",
       "O       NaN\n",
       "P       NaN\n",
       "Q    XABALU\n",
       "R       NaN\n",
       "S       NaN\n",
       "T       NaN\n",
       "U       NaN\n",
       "V       NaN\n",
       "W       NaN\n",
       "X       NaN\n",
       "Y       NaN\n",
       "Z       NaN\n",
       "dtype: object"
      ]
     },
     "execution_count": 117,
     "metadata": {},
     "output_type": "execute_result"
    }
   ],
   "source": [
    "s.map({10: 'E DEZ', 12: 'XABALU'})"
   ]
  },
  {
   "cell_type": "markdown",
   "id": "c27d11a6",
   "metadata": {},
   "source": [
    "# Transformand em um Dataframe\n",
    "\n",
    "* cocat"
   ]
  },
  {
   "cell_type": "code",
   "execution_count": 5,
   "id": "8cba7f17",
   "metadata": {},
   "outputs": [],
   "source": [
    "from pandas import Series, concat\n",
    "\n",
    "s1 = Series(d)\n",
    "s2 = Series(d)\n",
    "\n",
    "df = concat([s1, s2], axis=1)"
   ]
  },
  {
   "cell_type": "code",
   "execution_count": 8,
   "id": "55c65887",
   "metadata": {
    "scrolled": true
   },
   "outputs": [
    {
     "data": {
      "text/html": [
       "<div>\n",
       "<style scoped>\n",
       "    .dataframe tbody tr th:only-of-type {\n",
       "        vertical-align: middle;\n",
       "    }\n",
       "\n",
       "    .dataframe tbody tr th {\n",
       "        vertical-align: top;\n",
       "    }\n",
       "\n",
       "    .dataframe thead th {\n",
       "        text-align: right;\n",
       "    }\n",
       "</style>\n",
       "<table border=\"1\" class=\"dataframe\">\n",
       "  <thead>\n",
       "    <tr style=\"text-align: right;\">\n",
       "      <th></th>\n",
       "      <th>0</th>\n",
       "      <th>1</th>\n",
       "    </tr>\n",
       "  </thead>\n",
       "  <tbody>\n",
       "    <tr>\n",
       "      <th>A</th>\n",
       "      <td>8</td>\n",
       "      <td>8</td>\n",
       "    </tr>\n",
       "    <tr>\n",
       "      <th>B</th>\n",
       "      <td>29</td>\n",
       "      <td>29</td>\n",
       "    </tr>\n",
       "    <tr>\n",
       "      <th>C</th>\n",
       "      <td>25</td>\n",
       "      <td>25</td>\n",
       "    </tr>\n",
       "    <tr>\n",
       "      <th>D</th>\n",
       "      <td>24</td>\n",
       "      <td>24</td>\n",
       "    </tr>\n",
       "    <tr>\n",
       "      <th>E</th>\n",
       "      <td>28</td>\n",
       "      <td>28</td>\n",
       "    </tr>\n",
       "    <tr>\n",
       "      <th>F</th>\n",
       "      <td>11</td>\n",
       "      <td>11</td>\n",
       "    </tr>\n",
       "    <tr>\n",
       "      <th>G</th>\n",
       "      <td>48</td>\n",
       "      <td>48</td>\n",
       "    </tr>\n",
       "    <tr>\n",
       "      <th>H</th>\n",
       "      <td>34</td>\n",
       "      <td>34</td>\n",
       "    </tr>\n",
       "    <tr>\n",
       "      <th>I</th>\n",
       "      <td>28</td>\n",
       "      <td>28</td>\n",
       "    </tr>\n",
       "    <tr>\n",
       "      <th>J</th>\n",
       "      <td>42</td>\n",
       "      <td>42</td>\n",
       "    </tr>\n",
       "    <tr>\n",
       "      <th>K</th>\n",
       "      <td>39</td>\n",
       "      <td>39</td>\n",
       "    </tr>\n",
       "    <tr>\n",
       "      <th>L</th>\n",
       "      <td>34</td>\n",
       "      <td>34</td>\n",
       "    </tr>\n",
       "    <tr>\n",
       "      <th>M</th>\n",
       "      <td>29</td>\n",
       "      <td>29</td>\n",
       "    </tr>\n",
       "    <tr>\n",
       "      <th>N</th>\n",
       "      <td>47</td>\n",
       "      <td>47</td>\n",
       "    </tr>\n",
       "    <tr>\n",
       "      <th>O</th>\n",
       "      <td>13</td>\n",
       "      <td>13</td>\n",
       "    </tr>\n",
       "    <tr>\n",
       "      <th>P</th>\n",
       "      <td>9</td>\n",
       "      <td>9</td>\n",
       "    </tr>\n",
       "    <tr>\n",
       "      <th>Q</th>\n",
       "      <td>16</td>\n",
       "      <td>16</td>\n",
       "    </tr>\n",
       "    <tr>\n",
       "      <th>R</th>\n",
       "      <td>10</td>\n",
       "      <td>10</td>\n",
       "    </tr>\n",
       "    <tr>\n",
       "      <th>S</th>\n",
       "      <td>15</td>\n",
       "      <td>15</td>\n",
       "    </tr>\n",
       "    <tr>\n",
       "      <th>T</th>\n",
       "      <td>25</td>\n",
       "      <td>25</td>\n",
       "    </tr>\n",
       "    <tr>\n",
       "      <th>U</th>\n",
       "      <td>34</td>\n",
       "      <td>34</td>\n",
       "    </tr>\n",
       "    <tr>\n",
       "      <th>V</th>\n",
       "      <td>13</td>\n",
       "      <td>13</td>\n",
       "    </tr>\n",
       "    <tr>\n",
       "      <th>W</th>\n",
       "      <td>20</td>\n",
       "      <td>20</td>\n",
       "    </tr>\n",
       "    <tr>\n",
       "      <th>X</th>\n",
       "      <td>31</td>\n",
       "      <td>31</td>\n",
       "    </tr>\n",
       "    <tr>\n",
       "      <th>Y</th>\n",
       "      <td>15</td>\n",
       "      <td>15</td>\n",
       "    </tr>\n",
       "    <tr>\n",
       "      <th>Z</th>\n",
       "      <td>31</td>\n",
       "      <td>31</td>\n",
       "    </tr>\n",
       "  </tbody>\n",
       "</table>\n",
       "</div>"
      ],
      "text/plain": [
       "    0   1\n",
       "A   8   8\n",
       "B  29  29\n",
       "C  25  25\n",
       "D  24  24\n",
       "E  28  28\n",
       "F  11  11\n",
       "G  48  48\n",
       "H  34  34\n",
       "I  28  28\n",
       "J  42  42\n",
       "K  39  39\n",
       "L  34  34\n",
       "M  29  29\n",
       "N  47  47\n",
       "O  13  13\n",
       "P   9   9\n",
       "Q  16  16\n",
       "R  10  10\n",
       "S  15  15\n",
       "T  25  25\n",
       "U  34  34\n",
       "V  13  13\n",
       "W  20  20\n",
       "X  31  31\n",
       "Y  15  15\n",
       "Z  31  31"
      ]
     },
     "execution_count": 8,
     "metadata": {},
     "output_type": "execute_result"
    }
   ],
   "source": [
    "df"
   ]
  },
  {
   "cell_type": "markdown",
   "id": "4252284f",
   "metadata": {},
   "source": [
    "# Dataframes"
   ]
  },
  {
   "cell_type": "code",
   "execution_count": 19,
   "id": "3bf95489",
   "metadata": {},
   "outputs": [],
   "source": [
    "from pandas import DataFrame\n",
    "\n",
    "d = {\n",
    "    'Eduardo': [1,2,3],\n",
    "    'Fausto': [4,5,6],\n",
    "    'Tay': [7,8,9],\n",
    "}\n",
    "\n",
    "df = DataFrame(d, index=['idade', 'Peso', 'Quant. Bracos'])"
   ]
  },
  {
   "cell_type": "code",
   "execution_count": 20,
   "id": "c17c747d",
   "metadata": {},
   "outputs": [
    {
     "data": {
      "text/html": [
       "<div>\n",
       "<style scoped>\n",
       "    .dataframe tbody tr th:only-of-type {\n",
       "        vertical-align: middle;\n",
       "    }\n",
       "\n",
       "    .dataframe tbody tr th {\n",
       "        vertical-align: top;\n",
       "    }\n",
       "\n",
       "    .dataframe thead th {\n",
       "        text-align: right;\n",
       "    }\n",
       "</style>\n",
       "<table border=\"1\" class=\"dataframe\">\n",
       "  <thead>\n",
       "    <tr style=\"text-align: right;\">\n",
       "      <th></th>\n",
       "      <th>Eduardo</th>\n",
       "      <th>Fausto</th>\n",
       "      <th>Tay</th>\n",
       "    </tr>\n",
       "  </thead>\n",
       "  <tbody>\n",
       "    <tr>\n",
       "      <th>idade</th>\n",
       "      <td>1</td>\n",
       "      <td>4</td>\n",
       "      <td>7</td>\n",
       "    </tr>\n",
       "    <tr>\n",
       "      <th>Peso</th>\n",
       "      <td>2</td>\n",
       "      <td>5</td>\n",
       "      <td>8</td>\n",
       "    </tr>\n",
       "    <tr>\n",
       "      <th>Quant. Bracos</th>\n",
       "      <td>3</td>\n",
       "      <td>6</td>\n",
       "      <td>9</td>\n",
       "    </tr>\n",
       "  </tbody>\n",
       "</table>\n",
       "</div>"
      ],
      "text/plain": [
       "               Eduardo  Fausto  Tay\n",
       "idade                1       4    7\n",
       "Peso                 2       5    8\n",
       "Quant. Bracos        3       6    9"
      ]
     },
     "execution_count": 20,
     "metadata": {},
     "output_type": "execute_result"
    }
   ],
   "source": [
    "df"
   ]
  },
  {
   "cell_type": "code",
   "execution_count": 21,
   "id": "c658ef6a",
   "metadata": {},
   "outputs": [
    {
     "data": {
      "text/plain": [
       "<AxesSubplot: >"
      ]
     },
     "execution_count": 21,
     "metadata": {},
     "output_type": "execute_result"
    },
    {
     "data": {
      "image/png": "[encoded data removed]",
      "text/plain": [
       "<Figure size 640x480 with 1 Axes>"
      ]
     },
     "metadata": {},
     "output_type": "display_data"
    }
   ],
   "source": [
    "df.plot(kind='bar')"
   ]
  },
  {
   "cell_type": "code",
   "execution_count": 22,
   "id": "c7e31291",
   "metadata": {},
   "outputs": [
    {
     "data": {
      "text/plain": [
       "<AxesSubplot: >"
      ]
     },
     "execution_count": 22,
     "metadata": {},
     "output_type": "execute_result"
    },
    {
     "data": {
      "image/png": "[encoded data removed]",
      "text/plain": [
       "<Figure size 640x480 with 1 Axes>"
      ]
     },
     "metadata": {},
     "output_type": "display_data"
    }
   ],
   "source": [
    "df.plot(kind='box')"
   ]
  },
  {
   "cell_type": "code",
   "execution_count": 23,
   "id": "03b54f2a",
   "metadata": {},
   "outputs": [
    {
     "data": {
      "text/plain": [
       "<AxesSubplot: ylabel='Frequency'>"
      ]
     },
     "execution_count": 23,
     "metadata": {},
     "output_type": "execute_result"
    },
    {
     "data": {
      "image/png": "[encoded data removed]",
      "text/plain": [
       "<Figure size 640x480 with 1 Axes>"
      ]
     },
     "metadata": {},
     "output_type": "display_data"
    }
   ],
   "source": [
    "df.plot(kind='hist')"
   ]
  },
  {
   "cell_type": "code",
   "execution_count": 24,
   "id": "86603545",
   "metadata": {},
   "outputs": [
    {
     "data": {
      "text/plain": [
       "<AxesSubplot: >"
      ]
     },
     "execution_count": 24,
     "metadata": {},
     "output_type": "execute_result"
    },
    {
     "data": {
      "image/png": "[encoded data removed]",
      "text/plain": [
       "<Figure size 640x480 with 1 Axes>"
      ]
     },
     "metadata": {},
     "output_type": "display_data"
    }
   ],
   "source": [
    "df.plot(kind=\"barh\")"
   ]
  },
  {
   "cell_type": "code",
   "execution_count": null,
   "id": "37a54a20",
   "metadata": {},
   "outputs": [],
   "source": []
  }
 ],
 "metadata": {
  "kernelspec": {
   "display_name": "Python 3 (ipykernel)",
   "language": "python",
   "name": "python3"
  },
  "language_info": {
   "codemirror_mode": {
    "name": "ipython",
    "version": 3
   },
   "file_extension": ".py",
   "mimetype": "text/x-python",
   "name": "python",
   "nbconvert_exporter": "python",
   "pygments_lexer": "ipython3",
   "version": "3.10.9"
  }
 },
 "nbformat": 4,
 "nbformat_minor": 5
}
